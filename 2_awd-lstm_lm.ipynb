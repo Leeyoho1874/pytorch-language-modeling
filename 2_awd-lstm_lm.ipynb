{
  "nbformat": 4,
  "nbformat_minor": 0,
  "metadata": {
    "colab": {
      "name": "awd_lstm_fixed.ipynb",
      "provenance": [],
      "machine_shape": "hm"
    },
    "kernelspec": {
      "display_name": "Python 3",
      "name": "python3"
    },
    "accelerator": "GPU",
    "widgets": {
      "application/vnd.jupyter.widget-state+json": {
        "abe9a8f800364c91b125fcc5f37f66f0": {
          "model_module": "@jupyter-widgets/controls",
          "model_name": "HBoxModel",
          "state": {
            "_view_name": "HBoxView",
            "_dom_classes": [],
            "_model_name": "HBoxModel",
            "_view_module": "@jupyter-widgets/controls",
            "_model_module_version": "1.5.0",
            "_view_count": null,
            "_view_module_version": "1.5.0",
            "box_style": "",
            "layout": "IPY_MODEL_0d2078c5a4244fd49f40704bf27463ff",
            "_model_module": "@jupyter-widgets/controls",
            "children": [
              "IPY_MODEL_0bfec18ed7f340dbb9a580376534dcf6",
              "IPY_MODEL_155d4af5da424172a27149fbf70d42a7"
            ]
          }
        },
        "0d2078c5a4244fd49f40704bf27463ff": {
          "model_module": "@jupyter-widgets/base",
          "model_name": "LayoutModel",
          "state": {
            "_view_name": "LayoutView",
            "grid_template_rows": null,
            "right": null,
            "justify_content": null,
            "_view_module": "@jupyter-widgets/base",
            "overflow": null,
            "_model_module_version": "1.2.0",
            "_view_count": null,
            "flex_flow": null,
            "width": null,
            "min_width": null,
            "border": null,
            "align_items": null,
            "bottom": null,
            "_model_module": "@jupyter-widgets/base",
            "top": null,
            "grid_column": null,
            "overflow_y": null,
            "overflow_x": null,
            "grid_auto_flow": null,
            "grid_area": null,
            "grid_template_columns": null,
            "flex": null,
            "_model_name": "LayoutModel",
            "justify_items": null,
            "grid_row": null,
            "max_height": null,
            "align_content": null,
            "visibility": null,
            "align_self": null,
            "height": null,
            "min_height": null,
            "padding": null,
            "grid_auto_rows": null,
            "grid_gap": null,
            "max_width": null,
            "order": null,
            "_view_module_version": "1.2.0",
            "grid_template_areas": null,
            "object_position": null,
            "object_fit": null,
            "grid_auto_columns": null,
            "margin": null,
            "display": null,
            "left": null
          }
        },
        "0bfec18ed7f340dbb9a580376534dcf6": {
          "model_module": "@jupyter-widgets/controls",
          "model_name": "FloatProgressModel",
          "state": {
            "_view_name": "ProgressView",
            "style": "IPY_MODEL_58dfdb7aba414078bf42c0028ca98b73",
            "_dom_classes": [],
            "description": "Downloading: ",
            "_model_name": "FloatProgressModel",
            "bar_style": "success",
            "max": 1934,
            "_view_module": "@jupyter-widgets/controls",
            "_model_module_version": "1.5.0",
            "value": 1934,
            "_view_count": null,
            "_view_module_version": "1.5.0",
            "orientation": "horizontal",
            "min": 0,
            "description_tooltip": null,
            "_model_module": "@jupyter-widgets/controls",
            "layout": "IPY_MODEL_a30eb22b583d4cdfb894c9204cecd50d"
          }
        },
        "155d4af5da424172a27149fbf70d42a7": {
          "model_module": "@jupyter-widgets/controls",
          "model_name": "HTMLModel",
          "state": {
            "_view_name": "HTMLView",
            "style": "IPY_MODEL_15fd0d8adaa843de9d1eafa286f665b3",
            "_dom_classes": [],
            "description": "",
            "_model_name": "HTMLModel",
            "placeholder": "​",
            "_view_module": "@jupyter-widgets/controls",
            "_model_module_version": "1.5.0",
            "value": " 8.33k/? [00:01&lt;00:00, 7.39kB/s]",
            "_view_count": null,
            "_view_module_version": "1.5.0",
            "description_tooltip": null,
            "_model_module": "@jupyter-widgets/controls",
            "layout": "IPY_MODEL_2915025bad24457bb3da2a1248dbe735"
          }
        },
        "58dfdb7aba414078bf42c0028ca98b73": {
          "model_module": "@jupyter-widgets/controls",
          "model_name": "ProgressStyleModel",
          "state": {
            "_view_name": "StyleView",
            "_model_name": "ProgressStyleModel",
            "description_width": "initial",
            "_view_module": "@jupyter-widgets/base",
            "_model_module_version": "1.5.0",
            "_view_count": null,
            "_view_module_version": "1.2.0",
            "bar_color": null,
            "_model_module": "@jupyter-widgets/controls"
          }
        },
        "a30eb22b583d4cdfb894c9204cecd50d": {
          "model_module": "@jupyter-widgets/base",
          "model_name": "LayoutModel",
          "state": {
            "_view_name": "LayoutView",
            "grid_template_rows": null,
            "right": null,
            "justify_content": null,
            "_view_module": "@jupyter-widgets/base",
            "overflow": null,
            "_model_module_version": "1.2.0",
            "_view_count": null,
            "flex_flow": null,
            "width": null,
            "min_width": null,
            "border": null,
            "align_items": null,
            "bottom": null,
            "_model_module": "@jupyter-widgets/base",
            "top": null,
            "grid_column": null,
            "overflow_y": null,
            "overflow_x": null,
            "grid_auto_flow": null,
            "grid_area": null,
            "grid_template_columns": null,
            "flex": null,
            "_model_name": "LayoutModel",
            "justify_items": null,
            "grid_row": null,
            "max_height": null,
            "align_content": null,
            "visibility": null,
            "align_self": null,
            "height": null,
            "min_height": null,
            "padding": null,
            "grid_auto_rows": null,
            "grid_gap": null,
            "max_width": null,
            "order": null,
            "_view_module_version": "1.2.0",
            "grid_template_areas": null,
            "object_position": null,
            "object_fit": null,
            "grid_auto_columns": null,
            "margin": null,
            "display": null,
            "left": null
          }
        },
        "15fd0d8adaa843de9d1eafa286f665b3": {
          "model_module": "@jupyter-widgets/controls",
          "model_name": "DescriptionStyleModel",
          "state": {
            "_view_name": "StyleView",
            "_model_name": "DescriptionStyleModel",
            "description_width": "",
            "_view_module": "@jupyter-widgets/base",
            "_model_module_version": "1.5.0",
            "_view_count": null,
            "_view_module_version": "1.2.0",
            "_model_module": "@jupyter-widgets/controls"
          }
        },
        "2915025bad24457bb3da2a1248dbe735": {
          "model_module": "@jupyter-widgets/base",
          "model_name": "LayoutModel",
          "state": {
            "_view_name": "LayoutView",
            "grid_template_rows": null,
            "right": null,
            "justify_content": null,
            "_view_module": "@jupyter-widgets/base",
            "overflow": null,
            "_model_module_version": "1.2.0",
            "_view_count": null,
            "flex_flow": null,
            "width": null,
            "min_width": null,
            "border": null,
            "align_items": null,
            "bottom": null,
            "_model_module": "@jupyter-widgets/base",
            "top": null,
            "grid_column": null,
            "overflow_y": null,
            "overflow_x": null,
            "grid_auto_flow": null,
            "grid_area": null,
            "grid_template_columns": null,
            "flex": null,
            "_model_name": "LayoutModel",
            "justify_items": null,
            "grid_row": null,
            "max_height": null,
            "align_content": null,
            "visibility": null,
            "align_self": null,
            "height": null,
            "min_height": null,
            "padding": null,
            "grid_auto_rows": null,
            "grid_gap": null,
            "max_width": null,
            "order": null,
            "_view_module_version": "1.2.0",
            "grid_template_areas": null,
            "object_position": null,
            "object_fit": null,
            "grid_auto_columns": null,
            "margin": null,
            "display": null,
            "left": null
          }
        },
        "de6c8260019d4ebb97697edb4d606088": {
          "model_module": "@jupyter-widgets/controls",
          "model_name": "HBoxModel",
          "state": {
            "_view_name": "HBoxView",
            "_dom_classes": [],
            "_model_name": "HBoxModel",
            "_view_module": "@jupyter-widgets/controls",
            "_model_module_version": "1.5.0",
            "_view_count": null,
            "_view_module_version": "1.5.0",
            "box_style": "",
            "layout": "IPY_MODEL_d36db920a3a24630884db901286bfb11",
            "_model_module": "@jupyter-widgets/controls",
            "children": [
              "IPY_MODEL_cf57a8173def455f9fbbeefef87ce07e",
              "IPY_MODEL_db3589b2a9144da797dcaa7f177fb6eb"
            ]
          }
        },
        "d36db920a3a24630884db901286bfb11": {
          "model_module": "@jupyter-widgets/base",
          "model_name": "LayoutModel",
          "state": {
            "_view_name": "LayoutView",
            "grid_template_rows": null,
            "right": null,
            "justify_content": null,
            "_view_module": "@jupyter-widgets/base",
            "overflow": null,
            "_model_module_version": "1.2.0",
            "_view_count": null,
            "flex_flow": null,
            "width": null,
            "min_width": null,
            "border": null,
            "align_items": null,
            "bottom": null,
            "_model_module": "@jupyter-widgets/base",
            "top": null,
            "grid_column": null,
            "overflow_y": null,
            "overflow_x": null,
            "grid_auto_flow": null,
            "grid_area": null,
            "grid_template_columns": null,
            "flex": null,
            "_model_name": "LayoutModel",
            "justify_items": null,
            "grid_row": null,
            "max_height": null,
            "align_content": null,
            "visibility": null,
            "align_self": null,
            "height": null,
            "min_height": null,
            "padding": null,
            "grid_auto_rows": null,
            "grid_gap": null,
            "max_width": null,
            "order": null,
            "_view_module_version": "1.2.0",
            "grid_template_areas": null,
            "object_position": null,
            "object_fit": null,
            "grid_auto_columns": null,
            "margin": null,
            "display": null,
            "left": null
          }
        },
        "cf57a8173def455f9fbbeefef87ce07e": {
          "model_module": "@jupyter-widgets/controls",
          "model_name": "FloatProgressModel",
          "state": {
            "_view_name": "ProgressView",
            "style": "IPY_MODEL_41cf3ede19674a718edbef950ce5cba9",
            "_dom_classes": [],
            "description": "Downloading: ",
            "_model_name": "FloatProgressModel",
            "bar_style": "success",
            "max": 1124,
            "_view_module": "@jupyter-widgets/controls",
            "_model_module_version": "1.5.0",
            "value": 1124,
            "_view_count": null,
            "_view_module_version": "1.5.0",
            "orientation": "horizontal",
            "min": 0,
            "description_tooltip": null,
            "_model_module": "@jupyter-widgets/controls",
            "layout": "IPY_MODEL_e37078e54bec4ef49985c8dc77ad06d2"
          }
        },
        "db3589b2a9144da797dcaa7f177fb6eb": {
          "model_module": "@jupyter-widgets/controls",
          "model_name": "HTMLModel",
          "state": {
            "_view_name": "HTMLView",
            "style": "IPY_MODEL_b1da6f7126144df18d8cf4fc3a7310d6",
            "_dom_classes": [],
            "description": "",
            "_model_name": "HTMLModel",
            "placeholder": "​",
            "_view_module": "@jupyter-widgets/controls",
            "_model_module_version": "1.5.0",
            "value": " 5.83k/? [00:00&lt;00:00, 99.6kB/s]",
            "_view_count": null,
            "_view_module_version": "1.5.0",
            "description_tooltip": null,
            "_model_module": "@jupyter-widgets/controls",
            "layout": "IPY_MODEL_bcbe4e48c5c14c9fa61eaf2bdcf3e2fb"
          }
        },
        "41cf3ede19674a718edbef950ce5cba9": {
          "model_module": "@jupyter-widgets/controls",
          "model_name": "ProgressStyleModel",
          "state": {
            "_view_name": "StyleView",
            "_model_name": "ProgressStyleModel",
            "description_width": "initial",
            "_view_module": "@jupyter-widgets/base",
            "_model_module_version": "1.5.0",
            "_view_count": null,
            "_view_module_version": "1.2.0",
            "bar_color": null,
            "_model_module": "@jupyter-widgets/controls"
          }
        },
        "e37078e54bec4ef49985c8dc77ad06d2": {
          "model_module": "@jupyter-widgets/base",
          "model_name": "LayoutModel",
          "state": {
            "_view_name": "LayoutView",
            "grid_template_rows": null,
            "right": null,
            "justify_content": null,
            "_view_module": "@jupyter-widgets/base",
            "overflow": null,
            "_model_module_version": "1.2.0",
            "_view_count": null,
            "flex_flow": null,
            "width": null,
            "min_width": null,
            "border": null,
            "align_items": null,
            "bottom": null,
            "_model_module": "@jupyter-widgets/base",
            "top": null,
            "grid_column": null,
            "overflow_y": null,
            "overflow_x": null,
            "grid_auto_flow": null,
            "grid_area": null,
            "grid_template_columns": null,
            "flex": null,
            "_model_name": "LayoutModel",
            "justify_items": null,
            "grid_row": null,
            "max_height": null,
            "align_content": null,
            "visibility": null,
            "align_self": null,
            "height": null,
            "min_height": null,
            "padding": null,
            "grid_auto_rows": null,
            "grid_gap": null,
            "max_width": null,
            "order": null,
            "_view_module_version": "1.2.0",
            "grid_template_areas": null,
            "object_position": null,
            "object_fit": null,
            "grid_auto_columns": null,
            "margin": null,
            "display": null,
            "left": null
          }
        },
        "b1da6f7126144df18d8cf4fc3a7310d6": {
          "model_module": "@jupyter-widgets/controls",
          "model_name": "DescriptionStyleModel",
          "state": {
            "_view_name": "StyleView",
            "_model_name": "DescriptionStyleModel",
            "description_width": "",
            "_view_module": "@jupyter-widgets/base",
            "_model_module_version": "1.5.0",
            "_view_count": null,
            "_view_module_version": "1.2.0",
            "_model_module": "@jupyter-widgets/controls"
          }
        },
        "bcbe4e48c5c14c9fa61eaf2bdcf3e2fb": {
          "model_module": "@jupyter-widgets/base",
          "model_name": "LayoutModel",
          "state": {
            "_view_name": "LayoutView",
            "grid_template_rows": null,
            "right": null,
            "justify_content": null,
            "_view_module": "@jupyter-widgets/base",
            "overflow": null,
            "_model_module_version": "1.2.0",
            "_view_count": null,
            "flex_flow": null,
            "width": null,
            "min_width": null,
            "border": null,
            "align_items": null,
            "bottom": null,
            "_model_module": "@jupyter-widgets/base",
            "top": null,
            "grid_column": null,
            "overflow_y": null,
            "overflow_x": null,
            "grid_auto_flow": null,
            "grid_area": null,
            "grid_template_columns": null,
            "flex": null,
            "_model_name": "LayoutModel",
            "justify_items": null,
            "grid_row": null,
            "max_height": null,
            "align_content": null,
            "visibility": null,
            "align_self": null,
            "height": null,
            "min_height": null,
            "padding": null,
            "grid_auto_rows": null,
            "grid_gap": null,
            "max_width": null,
            "order": null,
            "_view_module_version": "1.2.0",
            "grid_template_areas": null,
            "object_position": null,
            "object_fit": null,
            "grid_auto_columns": null,
            "margin": null,
            "display": null,
            "left": null
          }
        },
        "91c199e9cd564f64b3a2051ccac6b873": {
          "model_module": "@jupyter-widgets/controls",
          "model_name": "HBoxModel",
          "state": {
            "_view_name": "HBoxView",
            "_dom_classes": [],
            "_model_name": "HBoxModel",
            "_view_module": "@jupyter-widgets/controls",
            "_model_module_version": "1.5.0",
            "_view_count": null,
            "_view_module_version": "1.5.0",
            "box_style": "",
            "layout": "IPY_MODEL_b3208de42ec04f92beb32b46c18922ea",
            "_model_module": "@jupyter-widgets/controls",
            "children": [
              "IPY_MODEL_a3285eeb59c94c33bb85ea9af848f2bb",
              "IPY_MODEL_20f9b02342f245f3b8e6713b43abdcec"
            ]
          }
        },
        "b3208de42ec04f92beb32b46c18922ea": {
          "model_module": "@jupyter-widgets/base",
          "model_name": "LayoutModel",
          "state": {
            "_view_name": "LayoutView",
            "grid_template_rows": null,
            "right": null,
            "justify_content": null,
            "_view_module": "@jupyter-widgets/base",
            "overflow": null,
            "_model_module_version": "1.2.0",
            "_view_count": null,
            "flex_flow": null,
            "width": null,
            "min_width": null,
            "border": null,
            "align_items": null,
            "bottom": null,
            "_model_module": "@jupyter-widgets/base",
            "top": null,
            "grid_column": null,
            "overflow_y": null,
            "overflow_x": null,
            "grid_auto_flow": null,
            "grid_area": null,
            "grid_template_columns": null,
            "flex": null,
            "_model_name": "LayoutModel",
            "justify_items": null,
            "grid_row": null,
            "max_height": null,
            "align_content": null,
            "visibility": null,
            "align_self": null,
            "height": null,
            "min_height": null,
            "padding": null,
            "grid_auto_rows": null,
            "grid_gap": null,
            "max_width": null,
            "order": null,
            "_view_module_version": "1.2.0",
            "grid_template_areas": null,
            "object_position": null,
            "object_fit": null,
            "grid_auto_columns": null,
            "margin": null,
            "display": null,
            "left": null
          }
        },
        "a3285eeb59c94c33bb85ea9af848f2bb": {
          "model_module": "@jupyter-widgets/controls",
          "model_name": "FloatProgressModel",
          "state": {
            "_view_name": "ProgressView",
            "style": "IPY_MODEL_fcf037ebe88d49fa84a224e56cd14962",
            "_dom_classes": [],
            "description": "Downloading: 100%",
            "_model_name": "FloatProgressModel",
            "bar_style": "success",
            "max": 4721645,
            "_view_module": "@jupyter-widgets/controls",
            "_model_module_version": "1.5.0",
            "value": 4721645,
            "_view_count": null,
            "_view_module_version": "1.5.0",
            "orientation": "horizontal",
            "min": 0,
            "description_tooltip": null,
            "_model_module": "@jupyter-widgets/controls",
            "layout": "IPY_MODEL_6f7784e1b1a14d16ba4eb83dde4d1cb4"
          }
        },
        "20f9b02342f245f3b8e6713b43abdcec": {
          "model_module": "@jupyter-widgets/controls",
          "model_name": "HTMLModel",
          "state": {
            "_view_name": "HTMLView",
            "style": "IPY_MODEL_436ab2056ed549bcb18149ce623baa57",
            "_dom_classes": [],
            "description": "",
            "_model_name": "HTMLModel",
            "placeholder": "​",
            "_view_module": "@jupyter-widgets/controls",
            "_model_module_version": "1.5.0",
            "value": " 4.72M/4.72M [00:00&lt;00:00, 11.8MB/s]",
            "_view_count": null,
            "_view_module_version": "1.5.0",
            "description_tooltip": null,
            "_model_module": "@jupyter-widgets/controls",
            "layout": "IPY_MODEL_3847bbb558054e0bbace32093007fccb"
          }
        },
        "fcf037ebe88d49fa84a224e56cd14962": {
          "model_module": "@jupyter-widgets/controls",
          "model_name": "ProgressStyleModel",
          "state": {
            "_view_name": "StyleView",
            "_model_name": "ProgressStyleModel",
            "description_width": "initial",
            "_view_module": "@jupyter-widgets/base",
            "_model_module_version": "1.5.0",
            "_view_count": null,
            "_view_module_version": "1.2.0",
            "bar_color": null,
            "_model_module": "@jupyter-widgets/controls"
          }
        },
        "6f7784e1b1a14d16ba4eb83dde4d1cb4": {
          "model_module": "@jupyter-widgets/base",
          "model_name": "LayoutModel",
          "state": {
            "_view_name": "LayoutView",
            "grid_template_rows": null,
            "right": null,
            "justify_content": null,
            "_view_module": "@jupyter-widgets/base",
            "overflow": null,
            "_model_module_version": "1.2.0",
            "_view_count": null,
            "flex_flow": null,
            "width": null,
            "min_width": null,
            "border": null,
            "align_items": null,
            "bottom": null,
            "_model_module": "@jupyter-widgets/base",
            "top": null,
            "grid_column": null,
            "overflow_y": null,
            "overflow_x": null,
            "grid_auto_flow": null,
            "grid_area": null,
            "grid_template_columns": null,
            "flex": null,
            "_model_name": "LayoutModel",
            "justify_items": null,
            "grid_row": null,
            "max_height": null,
            "align_content": null,
            "visibility": null,
            "align_self": null,
            "height": null,
            "min_height": null,
            "padding": null,
            "grid_auto_rows": null,
            "grid_gap": null,
            "max_width": null,
            "order": null,
            "_view_module_version": "1.2.0",
            "grid_template_areas": null,
            "object_position": null,
            "object_fit": null,
            "grid_auto_columns": null,
            "margin": null,
            "display": null,
            "left": null
          }
        },
        "436ab2056ed549bcb18149ce623baa57": {
          "model_module": "@jupyter-widgets/controls",
          "model_name": "DescriptionStyleModel",
          "state": {
            "_view_name": "StyleView",
            "_model_name": "DescriptionStyleModel",
            "description_width": "",
            "_view_module": "@jupyter-widgets/base",
            "_model_module_version": "1.5.0",
            "_view_count": null,
            "_view_module_version": "1.2.0",
            "_model_module": "@jupyter-widgets/controls"
          }
        },
        "3847bbb558054e0bbace32093007fccb": {
          "model_module": "@jupyter-widgets/base",
          "model_name": "LayoutModel",
          "state": {
            "_view_name": "LayoutView",
            "grid_template_rows": null,
            "right": null,
            "justify_content": null,
            "_view_module": "@jupyter-widgets/base",
            "overflow": null,
            "_model_module_version": "1.2.0",
            "_view_count": null,
            "flex_flow": null,
            "width": null,
            "min_width": null,
            "border": null,
            "align_items": null,
            "bottom": null,
            "_model_module": "@jupyter-widgets/base",
            "top": null,
            "grid_column": null,
            "overflow_y": null,
            "overflow_x": null,
            "grid_auto_flow": null,
            "grid_area": null,
            "grid_template_columns": null,
            "flex": null,
            "_model_name": "LayoutModel",
            "justify_items": null,
            "grid_row": null,
            "max_height": null,
            "align_content": null,
            "visibility": null,
            "align_self": null,
            "height": null,
            "min_height": null,
            "padding": null,
            "grid_auto_rows": null,
            "grid_gap": null,
            "max_width": null,
            "order": null,
            "_view_module_version": "1.2.0",
            "grid_template_areas": null,
            "object_position": null,
            "object_fit": null,
            "grid_auto_columns": null,
            "margin": null,
            "display": null,
            "left": null
          }
        },
        "e3f17eec37d743428ce82fc81ea53ff8": {
          "model_module": "@jupyter-widgets/controls",
          "model_name": "HBoxModel",
          "state": {
            "_view_name": "HBoxView",
            "_dom_classes": [],
            "_model_name": "HBoxModel",
            "_view_module": "@jupyter-widgets/controls",
            "_model_module_version": "1.5.0",
            "_view_count": null,
            "_view_module_version": "1.5.0",
            "box_style": "",
            "layout": "IPY_MODEL_54a022e92fe948efa862cb5b19c7064f",
            "_model_module": "@jupyter-widgets/controls",
            "children": [
              "IPY_MODEL_916fb9c620d14490878f7b4f3b19b691",
              "IPY_MODEL_ed4283dc57fd4905a67c23017ce4dd4a"
            ]
          }
        },
        "54a022e92fe948efa862cb5b19c7064f": {
          "model_module": "@jupyter-widgets/base",
          "model_name": "LayoutModel",
          "state": {
            "_view_name": "LayoutView",
            "grid_template_rows": null,
            "right": null,
            "justify_content": null,
            "_view_module": "@jupyter-widgets/base",
            "overflow": null,
            "_model_module_version": "1.2.0",
            "_view_count": null,
            "flex_flow": null,
            "width": null,
            "min_width": null,
            "border": null,
            "align_items": null,
            "bottom": null,
            "_model_module": "@jupyter-widgets/base",
            "top": null,
            "grid_column": null,
            "overflow_y": null,
            "overflow_x": null,
            "grid_auto_flow": null,
            "grid_area": null,
            "grid_template_columns": null,
            "flex": null,
            "_model_name": "LayoutModel",
            "justify_items": null,
            "grid_row": null,
            "max_height": null,
            "align_content": null,
            "visibility": null,
            "align_self": null,
            "height": null,
            "min_height": null,
            "padding": null,
            "grid_auto_rows": null,
            "grid_gap": null,
            "max_width": null,
            "order": null,
            "_view_module_version": "1.2.0",
            "grid_template_areas": null,
            "object_position": null,
            "object_fit": null,
            "grid_auto_columns": null,
            "margin": null,
            "display": null,
            "left": null
          }
        },
        "916fb9c620d14490878f7b4f3b19b691": {
          "model_module": "@jupyter-widgets/controls",
          "model_name": "FloatProgressModel",
          "state": {
            "_view_name": "ProgressView",
            "style": "IPY_MODEL_6989cb524b5c4a5ab838cd14f19075f8",
            "_dom_classes": [],
            "description": "",
            "_model_name": "FloatProgressModel",
            "bar_style": "info",
            "max": 1,
            "_view_module": "@jupyter-widgets/controls",
            "_model_module_version": "1.5.0",
            "value": 1,
            "_view_count": null,
            "_view_module_version": "1.5.0",
            "orientation": "horizontal",
            "min": 0,
            "description_tooltip": null,
            "_model_module": "@jupyter-widgets/controls",
            "layout": "IPY_MODEL_c1245e3c8a9346268f7e5fbb3fe34edf"
          }
        },
        "ed4283dc57fd4905a67c23017ce4dd4a": {
          "model_module": "@jupyter-widgets/controls",
          "model_name": "HTMLModel",
          "state": {
            "_view_name": "HTMLView",
            "style": "IPY_MODEL_e1ce5e14a9ca4b868a61b0735a6a2a36",
            "_dom_classes": [],
            "description": "",
            "_model_name": "HTMLModel",
            "placeholder": "​",
            "_view_module": "@jupyter-widgets/controls",
            "_model_module_version": "1.5.0",
            "value": " 4358/0 [00:01&lt;00:00,  1.67s/ examples]",
            "_view_count": null,
            "_view_module_version": "1.5.0",
            "description_tooltip": null,
            "_model_module": "@jupyter-widgets/controls",
            "layout": "IPY_MODEL_7dd6fd04d16f4a058324cff5a31911fa"
          }
        },
        "6989cb524b5c4a5ab838cd14f19075f8": {
          "model_module": "@jupyter-widgets/controls",
          "model_name": "ProgressStyleModel",
          "state": {
            "_view_name": "StyleView",
            "_model_name": "ProgressStyleModel",
            "description_width": "initial",
            "_view_module": "@jupyter-widgets/base",
            "_model_module_version": "1.5.0",
            "_view_count": null,
            "_view_module_version": "1.2.0",
            "bar_color": null,
            "_model_module": "@jupyter-widgets/controls"
          }
        },
        "c1245e3c8a9346268f7e5fbb3fe34edf": {
          "model_module": "@jupyter-widgets/base",
          "model_name": "LayoutModel",
          "state": {
            "_view_name": "LayoutView",
            "grid_template_rows": null,
            "right": null,
            "justify_content": null,
            "_view_module": "@jupyter-widgets/base",
            "overflow": null,
            "_model_module_version": "1.2.0",
            "_view_count": null,
            "flex_flow": null,
            "width": null,
            "min_width": null,
            "border": null,
            "align_items": null,
            "bottom": null,
            "_model_module": "@jupyter-widgets/base",
            "top": null,
            "grid_column": null,
            "overflow_y": null,
            "overflow_x": null,
            "grid_auto_flow": null,
            "grid_area": null,
            "grid_template_columns": null,
            "flex": null,
            "_model_name": "LayoutModel",
            "justify_items": null,
            "grid_row": null,
            "max_height": null,
            "align_content": null,
            "visibility": null,
            "align_self": null,
            "height": null,
            "min_height": null,
            "padding": null,
            "grid_auto_rows": null,
            "grid_gap": null,
            "max_width": null,
            "order": null,
            "_view_module_version": "1.2.0",
            "grid_template_areas": null,
            "object_position": null,
            "object_fit": null,
            "grid_auto_columns": null,
            "margin": null,
            "display": null,
            "left": null
          }
        },
        "e1ce5e14a9ca4b868a61b0735a6a2a36": {
          "model_module": "@jupyter-widgets/controls",
          "model_name": "DescriptionStyleModel",
          "state": {
            "_view_name": "StyleView",
            "_model_name": "DescriptionStyleModel",
            "description_width": "",
            "_view_module": "@jupyter-widgets/base",
            "_model_module_version": "1.5.0",
            "_view_count": null,
            "_view_module_version": "1.2.0",
            "_model_module": "@jupyter-widgets/controls"
          }
        },
        "7dd6fd04d16f4a058324cff5a31911fa": {
          "model_module": "@jupyter-widgets/base",
          "model_name": "LayoutModel",
          "state": {
            "_view_name": "LayoutView",
            "grid_template_rows": null,
            "right": null,
            "justify_content": null,
            "_view_module": "@jupyter-widgets/base",
            "overflow": null,
            "_model_module_version": "1.2.0",
            "_view_count": null,
            "flex_flow": null,
            "width": null,
            "min_width": null,
            "border": null,
            "align_items": null,
            "bottom": null,
            "_model_module": "@jupyter-widgets/base",
            "top": null,
            "grid_column": null,
            "overflow_y": null,
            "overflow_x": null,
            "grid_auto_flow": null,
            "grid_area": null,
            "grid_template_columns": null,
            "flex": null,
            "_model_name": "LayoutModel",
            "justify_items": null,
            "grid_row": null,
            "max_height": null,
            "align_content": null,
            "visibility": null,
            "align_self": null,
            "height": null,
            "min_height": null,
            "padding": null,
            "grid_auto_rows": null,
            "grid_gap": null,
            "max_width": null,
            "order": null,
            "_view_module_version": "1.2.0",
            "grid_template_areas": null,
            "object_position": null,
            "object_fit": null,
            "grid_auto_columns": null,
            "margin": null,
            "display": null,
            "left": null
          }
        },
        "2168c61427ee4e33ad70383c5373f2d9": {
          "model_module": "@jupyter-widgets/controls",
          "model_name": "HBoxModel",
          "state": {
            "_view_name": "HBoxView",
            "_dom_classes": [],
            "_model_name": "HBoxModel",
            "_view_module": "@jupyter-widgets/controls",
            "_model_module_version": "1.5.0",
            "_view_count": null,
            "_view_module_version": "1.5.0",
            "box_style": "",
            "layout": "IPY_MODEL_7dd4efa1b6674577aa4e7f73fbe237c0",
            "_model_module": "@jupyter-widgets/controls",
            "children": [
              "IPY_MODEL_7d0327192aa04d81a38165057b12acfa",
              "IPY_MODEL_1b6e0c28e5c440fca421485f3b3531de"
            ]
          }
        },
        "7dd4efa1b6674577aa4e7f73fbe237c0": {
          "model_module": "@jupyter-widgets/base",
          "model_name": "LayoutModel",
          "state": {
            "_view_name": "LayoutView",
            "grid_template_rows": null,
            "right": null,
            "justify_content": null,
            "_view_module": "@jupyter-widgets/base",
            "overflow": null,
            "_model_module_version": "1.2.0",
            "_view_count": null,
            "flex_flow": null,
            "width": null,
            "min_width": null,
            "border": null,
            "align_items": null,
            "bottom": null,
            "_model_module": "@jupyter-widgets/base",
            "top": null,
            "grid_column": null,
            "overflow_y": null,
            "overflow_x": null,
            "grid_auto_flow": null,
            "grid_area": null,
            "grid_template_columns": null,
            "flex": null,
            "_model_name": "LayoutModel",
            "justify_items": null,
            "grid_row": null,
            "max_height": null,
            "align_content": null,
            "visibility": null,
            "align_self": null,
            "height": null,
            "min_height": null,
            "padding": null,
            "grid_auto_rows": null,
            "grid_gap": null,
            "max_width": null,
            "order": null,
            "_view_module_version": "1.2.0",
            "grid_template_areas": null,
            "object_position": null,
            "object_fit": null,
            "grid_auto_columns": null,
            "margin": null,
            "display": null,
            "left": null
          }
        },
        "7d0327192aa04d81a38165057b12acfa": {
          "model_module": "@jupyter-widgets/controls",
          "model_name": "FloatProgressModel",
          "state": {
            "_view_name": "ProgressView",
            "style": "IPY_MODEL_c4f98c7dd789425a9fe25d13acdeee5d",
            "_dom_classes": [],
            "description": "",
            "_model_name": "FloatProgressModel",
            "bar_style": "info",
            "max": 1,
            "_view_module": "@jupyter-widgets/controls",
            "_model_module_version": "1.5.0",
            "value": 1,
            "_view_count": null,
            "_view_module_version": "1.5.0",
            "orientation": "horizontal",
            "min": 0,
            "description_tooltip": null,
            "_model_module": "@jupyter-widgets/controls",
            "layout": "IPY_MODEL_f8fa5ad533964c6f99799579b8032ae1"
          }
        },
        "1b6e0c28e5c440fca421485f3b3531de": {
          "model_module": "@jupyter-widgets/controls",
          "model_name": "HTMLModel",
          "state": {
            "_view_name": "HTMLView",
            "style": "IPY_MODEL_53f59767eea44d1c8c63a601845fb1a8",
            "_dom_classes": [],
            "description": "",
            "_model_name": "HTMLModel",
            "placeholder": "​",
            "_view_module": "@jupyter-widgets/controls",
            "_model_module_version": "1.5.0",
            "value": " 36718/0 [00:00&lt;00:00, 39556.48 examples/s]",
            "_view_count": null,
            "_view_module_version": "1.5.0",
            "description_tooltip": null,
            "_model_module": "@jupyter-widgets/controls",
            "layout": "IPY_MODEL_1c3d0f6abf6149ccb1d103a3a5293afa"
          }
        },
        "c4f98c7dd789425a9fe25d13acdeee5d": {
          "model_module": "@jupyter-widgets/controls",
          "model_name": "ProgressStyleModel",
          "state": {
            "_view_name": "StyleView",
            "_model_name": "ProgressStyleModel",
            "description_width": "initial",
            "_view_module": "@jupyter-widgets/base",
            "_model_module_version": "1.5.0",
            "_view_count": null,
            "_view_module_version": "1.2.0",
            "bar_color": null,
            "_model_module": "@jupyter-widgets/controls"
          }
        },
        "f8fa5ad533964c6f99799579b8032ae1": {
          "model_module": "@jupyter-widgets/base",
          "model_name": "LayoutModel",
          "state": {
            "_view_name": "LayoutView",
            "grid_template_rows": null,
            "right": null,
            "justify_content": null,
            "_view_module": "@jupyter-widgets/base",
            "overflow": null,
            "_model_module_version": "1.2.0",
            "_view_count": null,
            "flex_flow": null,
            "width": null,
            "min_width": null,
            "border": null,
            "align_items": null,
            "bottom": null,
            "_model_module": "@jupyter-widgets/base",
            "top": null,
            "grid_column": null,
            "overflow_y": null,
            "overflow_x": null,
            "grid_auto_flow": null,
            "grid_area": null,
            "grid_template_columns": null,
            "flex": null,
            "_model_name": "LayoutModel",
            "justify_items": null,
            "grid_row": null,
            "max_height": null,
            "align_content": null,
            "visibility": null,
            "align_self": null,
            "height": null,
            "min_height": null,
            "padding": null,
            "grid_auto_rows": null,
            "grid_gap": null,
            "max_width": null,
            "order": null,
            "_view_module_version": "1.2.0",
            "grid_template_areas": null,
            "object_position": null,
            "object_fit": null,
            "grid_auto_columns": null,
            "margin": null,
            "display": null,
            "left": null
          }
        },
        "53f59767eea44d1c8c63a601845fb1a8": {
          "model_module": "@jupyter-widgets/controls",
          "model_name": "DescriptionStyleModel",
          "state": {
            "_view_name": "StyleView",
            "_model_name": "DescriptionStyleModel",
            "description_width": "",
            "_view_module": "@jupyter-widgets/base",
            "_model_module_version": "1.5.0",
            "_view_count": null,
            "_view_module_version": "1.2.0",
            "_model_module": "@jupyter-widgets/controls"
          }
        },
        "1c3d0f6abf6149ccb1d103a3a5293afa": {
          "model_module": "@jupyter-widgets/base",
          "model_name": "LayoutModel",
          "state": {
            "_view_name": "LayoutView",
            "grid_template_rows": null,
            "right": null,
            "justify_content": null,
            "_view_module": "@jupyter-widgets/base",
            "overflow": null,
            "_model_module_version": "1.2.0",
            "_view_count": null,
            "flex_flow": null,
            "width": null,
            "min_width": null,
            "border": null,
            "align_items": null,
            "bottom": null,
            "_model_module": "@jupyter-widgets/base",
            "top": null,
            "grid_column": null,
            "overflow_y": null,
            "overflow_x": null,
            "grid_auto_flow": null,
            "grid_area": null,
            "grid_template_columns": null,
            "flex": null,
            "_model_name": "LayoutModel",
            "justify_items": null,
            "grid_row": null,
            "max_height": null,
            "align_content": null,
            "visibility": null,
            "align_self": null,
            "height": null,
            "min_height": null,
            "padding": null,
            "grid_auto_rows": null,
            "grid_gap": null,
            "max_width": null,
            "order": null,
            "_view_module_version": "1.2.0",
            "grid_template_areas": null,
            "object_position": null,
            "object_fit": null,
            "grid_auto_columns": null,
            "margin": null,
            "display": null,
            "left": null
          }
        },
        "aa582623dfc04543be2bbefe884905ba": {
          "model_module": "@jupyter-widgets/controls",
          "model_name": "HBoxModel",
          "state": {
            "_view_name": "HBoxView",
            "_dom_classes": [],
            "_model_name": "HBoxModel",
            "_view_module": "@jupyter-widgets/controls",
            "_model_module_version": "1.5.0",
            "_view_count": null,
            "_view_module_version": "1.5.0",
            "box_style": "",
            "layout": "IPY_MODEL_849a78ad8a704be9a5bf4202703faa4b",
            "_model_module": "@jupyter-widgets/controls",
            "children": [
              "IPY_MODEL_02e7be20af604279861f79de2f22aaf2",
              "IPY_MODEL_b9fda83901bb4ba9bc8396062480bdf1"
            ]
          }
        },
        "849a78ad8a704be9a5bf4202703faa4b": {
          "model_module": "@jupyter-widgets/base",
          "model_name": "LayoutModel",
          "state": {
            "_view_name": "LayoutView",
            "grid_template_rows": null,
            "right": null,
            "justify_content": null,
            "_view_module": "@jupyter-widgets/base",
            "overflow": null,
            "_model_module_version": "1.2.0",
            "_view_count": null,
            "flex_flow": null,
            "width": null,
            "min_width": null,
            "border": null,
            "align_items": null,
            "bottom": null,
            "_model_module": "@jupyter-widgets/base",
            "top": null,
            "grid_column": null,
            "overflow_y": null,
            "overflow_x": null,
            "grid_auto_flow": null,
            "grid_area": null,
            "grid_template_columns": null,
            "flex": null,
            "_model_name": "LayoutModel",
            "justify_items": null,
            "grid_row": null,
            "max_height": null,
            "align_content": null,
            "visibility": null,
            "align_self": null,
            "height": null,
            "min_height": null,
            "padding": null,
            "grid_auto_rows": null,
            "grid_gap": null,
            "max_width": null,
            "order": null,
            "_view_module_version": "1.2.0",
            "grid_template_areas": null,
            "object_position": null,
            "object_fit": null,
            "grid_auto_columns": null,
            "margin": null,
            "display": null,
            "left": null
          }
        },
        "02e7be20af604279861f79de2f22aaf2": {
          "model_module": "@jupyter-widgets/controls",
          "model_name": "FloatProgressModel",
          "state": {
            "_view_name": "ProgressView",
            "style": "IPY_MODEL_8347ae14f4d34ed781bbc441734f0f3d",
            "_dom_classes": [],
            "description": "",
            "_model_name": "FloatProgressModel",
            "bar_style": "info",
            "max": 1,
            "_view_module": "@jupyter-widgets/controls",
            "_model_module_version": "1.5.0",
            "value": 1,
            "_view_count": null,
            "_view_module_version": "1.5.0",
            "orientation": "horizontal",
            "min": 0,
            "description_tooltip": null,
            "_model_module": "@jupyter-widgets/controls",
            "layout": "IPY_MODEL_314670e45d7d4df0b0e24f384e5ef493"
          }
        },
        "b9fda83901bb4ba9bc8396062480bdf1": {
          "model_module": "@jupyter-widgets/controls",
          "model_name": "HTMLModel",
          "state": {
            "_view_name": "HTMLView",
            "style": "IPY_MODEL_b5c2354627d04b8d9aa84bc170cda0c8",
            "_dom_classes": [],
            "description": "",
            "_model_name": "HTMLModel",
            "placeholder": "​",
            "_view_module": "@jupyter-widgets/controls",
            "_model_module_version": "1.5.0",
            "value": " 3760/0 [00:00&lt;00:00, 38522.06 examples/s]",
            "_view_count": null,
            "_view_module_version": "1.5.0",
            "description_tooltip": null,
            "_model_module": "@jupyter-widgets/controls",
            "layout": "IPY_MODEL_e63ddc1ac6bb4e7d9c153fbe698204db"
          }
        },
        "8347ae14f4d34ed781bbc441734f0f3d": {
          "model_module": "@jupyter-widgets/controls",
          "model_name": "ProgressStyleModel",
          "state": {
            "_view_name": "StyleView",
            "_model_name": "ProgressStyleModel",
            "description_width": "initial",
            "_view_module": "@jupyter-widgets/base",
            "_model_module_version": "1.5.0",
            "_view_count": null,
            "_view_module_version": "1.2.0",
            "bar_color": null,
            "_model_module": "@jupyter-widgets/controls"
          }
        },
        "314670e45d7d4df0b0e24f384e5ef493": {
          "model_module": "@jupyter-widgets/base",
          "model_name": "LayoutModel",
          "state": {
            "_view_name": "LayoutView",
            "grid_template_rows": null,
            "right": null,
            "justify_content": null,
            "_view_module": "@jupyter-widgets/base",
            "overflow": null,
            "_model_module_version": "1.2.0",
            "_view_count": null,
            "flex_flow": null,
            "width": null,
            "min_width": null,
            "border": null,
            "align_items": null,
            "bottom": null,
            "_model_module": "@jupyter-widgets/base",
            "top": null,
            "grid_column": null,
            "overflow_y": null,
            "overflow_x": null,
            "grid_auto_flow": null,
            "grid_area": null,
            "grid_template_columns": null,
            "flex": null,
            "_model_name": "LayoutModel",
            "justify_items": null,
            "grid_row": null,
            "max_height": null,
            "align_content": null,
            "visibility": null,
            "align_self": null,
            "height": null,
            "min_height": null,
            "padding": null,
            "grid_auto_rows": null,
            "grid_gap": null,
            "max_width": null,
            "order": null,
            "_view_module_version": "1.2.0",
            "grid_template_areas": null,
            "object_position": null,
            "object_fit": null,
            "grid_auto_columns": null,
            "margin": null,
            "display": null,
            "left": null
          }
        },
        "b5c2354627d04b8d9aa84bc170cda0c8": {
          "model_module": "@jupyter-widgets/controls",
          "model_name": "DescriptionStyleModel",
          "state": {
            "_view_name": "StyleView",
            "_model_name": "DescriptionStyleModel",
            "description_width": "",
            "_view_module": "@jupyter-widgets/base",
            "_model_module_version": "1.5.0",
            "_view_count": null,
            "_view_module_version": "1.2.0",
            "_model_module": "@jupyter-widgets/controls"
          }
        },
        "e63ddc1ac6bb4e7d9c153fbe698204db": {
          "model_module": "@jupyter-widgets/base",
          "model_name": "LayoutModel",
          "state": {
            "_view_name": "LayoutView",
            "grid_template_rows": null,
            "right": null,
            "justify_content": null,
            "_view_module": "@jupyter-widgets/base",
            "overflow": null,
            "_model_module_version": "1.2.0",
            "_view_count": null,
            "flex_flow": null,
            "width": null,
            "min_width": null,
            "border": null,
            "align_items": null,
            "bottom": null,
            "_model_module": "@jupyter-widgets/base",
            "top": null,
            "grid_column": null,
            "overflow_y": null,
            "overflow_x": null,
            "grid_auto_flow": null,
            "grid_area": null,
            "grid_template_columns": null,
            "flex": null,
            "_model_name": "LayoutModel",
            "justify_items": null,
            "grid_row": null,
            "max_height": null,
            "align_content": null,
            "visibility": null,
            "align_self": null,
            "height": null,
            "min_height": null,
            "padding": null,
            "grid_auto_rows": null,
            "grid_gap": null,
            "max_width": null,
            "order": null,
            "_view_module_version": "1.2.0",
            "grid_template_areas": null,
            "object_position": null,
            "object_fit": null,
            "grid_auto_columns": null,
            "margin": null,
            "display": null,
            "left": null
          }
        },
        "b406a4a93d6d459ca7d4ee924d7716d7": {
          "model_module": "@jupyter-widgets/controls",
          "model_name": "HBoxModel",
          "state": {
            "_view_name": "HBoxView",
            "_dom_classes": [],
            "_model_name": "HBoxModel",
            "_view_module": "@jupyter-widgets/controls",
            "_model_module_version": "1.5.0",
            "_view_count": null,
            "_view_module_version": "1.5.0",
            "box_style": "",
            "layout": "IPY_MODEL_479b4abc96854fb6aba7c2f09c45a121",
            "_model_module": "@jupyter-widgets/controls",
            "children": [
              "IPY_MODEL_d33b13b8cb614be399f4d5460f1192d4",
              "IPY_MODEL_19d3b4f3291a4861a91f8b1479bb8cb0"
            ]
          }
        },
        "479b4abc96854fb6aba7c2f09c45a121": {
          "model_module": "@jupyter-widgets/base",
          "model_name": "LayoutModel",
          "state": {
            "_view_name": "LayoutView",
            "grid_template_rows": null,
            "right": null,
            "justify_content": null,
            "_view_module": "@jupyter-widgets/base",
            "overflow": null,
            "_model_module_version": "1.2.0",
            "_view_count": null,
            "flex_flow": null,
            "width": null,
            "min_width": null,
            "border": null,
            "align_items": null,
            "bottom": null,
            "_model_module": "@jupyter-widgets/base",
            "top": null,
            "grid_column": null,
            "overflow_y": null,
            "overflow_x": null,
            "grid_auto_flow": null,
            "grid_area": null,
            "grid_template_columns": null,
            "flex": null,
            "_model_name": "LayoutModel",
            "justify_items": null,
            "grid_row": null,
            "max_height": null,
            "align_content": null,
            "visibility": null,
            "align_self": null,
            "height": null,
            "min_height": null,
            "padding": null,
            "grid_auto_rows": null,
            "grid_gap": null,
            "max_width": null,
            "order": null,
            "_view_module_version": "1.2.0",
            "grid_template_areas": null,
            "object_position": null,
            "object_fit": null,
            "grid_auto_columns": null,
            "margin": null,
            "display": null,
            "left": null
          }
        },
        "d33b13b8cb614be399f4d5460f1192d4": {
          "model_module": "@jupyter-widgets/controls",
          "model_name": "FloatProgressModel",
          "state": {
            "_view_name": "ProgressView",
            "style": "IPY_MODEL_8855c1657f7949e1894e946eee3c8fff",
            "_dom_classes": [],
            "description": "100%",
            "_model_name": "FloatProgressModel",
            "bar_style": "success",
            "max": 4358,
            "_view_module": "@jupyter-widgets/controls",
            "_model_module_version": "1.5.0",
            "value": 4358,
            "_view_count": null,
            "_view_module_version": "1.5.0",
            "orientation": "horizontal",
            "min": 0,
            "description_tooltip": null,
            "_model_module": "@jupyter-widgets/controls",
            "layout": "IPY_MODEL_d94ec42bcb4f48eb9a880b97fabb1670"
          }
        },
        "19d3b4f3291a4861a91f8b1479bb8cb0": {
          "model_module": "@jupyter-widgets/controls",
          "model_name": "HTMLModel",
          "state": {
            "_view_name": "HTMLView",
            "style": "IPY_MODEL_a9c4de22bea741f797d2c006f93d1f4f",
            "_dom_classes": [],
            "description": "",
            "_model_name": "HTMLModel",
            "placeholder": "​",
            "_view_module": "@jupyter-widgets/controls",
            "_model_module_version": "1.5.0",
            "value": " 4358/4358 [00:00&lt;00:00, 6819.71ex/s]",
            "_view_count": null,
            "_view_module_version": "1.5.0",
            "description_tooltip": null,
            "_model_module": "@jupyter-widgets/controls",
            "layout": "IPY_MODEL_15d90f22d4f945ecaad49f5a21a66743"
          }
        },
        "8855c1657f7949e1894e946eee3c8fff": {
          "model_module": "@jupyter-widgets/controls",
          "model_name": "ProgressStyleModel",
          "state": {
            "_view_name": "StyleView",
            "_model_name": "ProgressStyleModel",
            "description_width": "initial",
            "_view_module": "@jupyter-widgets/base",
            "_model_module_version": "1.5.0",
            "_view_count": null,
            "_view_module_version": "1.2.0",
            "bar_color": null,
            "_model_module": "@jupyter-widgets/controls"
          }
        },
        "d94ec42bcb4f48eb9a880b97fabb1670": {
          "model_module": "@jupyter-widgets/base",
          "model_name": "LayoutModel",
          "state": {
            "_view_name": "LayoutView",
            "grid_template_rows": null,
            "right": null,
            "justify_content": null,
            "_view_module": "@jupyter-widgets/base",
            "overflow": null,
            "_model_module_version": "1.2.0",
            "_view_count": null,
            "flex_flow": null,
            "width": null,
            "min_width": null,
            "border": null,
            "align_items": null,
            "bottom": null,
            "_model_module": "@jupyter-widgets/base",
            "top": null,
            "grid_column": null,
            "overflow_y": null,
            "overflow_x": null,
            "grid_auto_flow": null,
            "grid_area": null,
            "grid_template_columns": null,
            "flex": null,
            "_model_name": "LayoutModel",
            "justify_items": null,
            "grid_row": null,
            "max_height": null,
            "align_content": null,
            "visibility": null,
            "align_self": null,
            "height": null,
            "min_height": null,
            "padding": null,
            "grid_auto_rows": null,
            "grid_gap": null,
            "max_width": null,
            "order": null,
            "_view_module_version": "1.2.0",
            "grid_template_areas": null,
            "object_position": null,
            "object_fit": null,
            "grid_auto_columns": null,
            "margin": null,
            "display": null,
            "left": null
          }
        },
        "a9c4de22bea741f797d2c006f93d1f4f": {
          "model_module": "@jupyter-widgets/controls",
          "model_name": "DescriptionStyleModel",
          "state": {
            "_view_name": "StyleView",
            "_model_name": "DescriptionStyleModel",
            "description_width": "",
            "_view_module": "@jupyter-widgets/base",
            "_model_module_version": "1.5.0",
            "_view_count": null,
            "_view_module_version": "1.2.0",
            "_model_module": "@jupyter-widgets/controls"
          }
        },
        "15d90f22d4f945ecaad49f5a21a66743": {
          "model_module": "@jupyter-widgets/base",
          "model_name": "LayoutModel",
          "state": {
            "_view_name": "LayoutView",
            "grid_template_rows": null,
            "right": null,
            "justify_content": null,
            "_view_module": "@jupyter-widgets/base",
            "overflow": null,
            "_model_module_version": "1.2.0",
            "_view_count": null,
            "flex_flow": null,
            "width": null,
            "min_width": null,
            "border": null,
            "align_items": null,
            "bottom": null,
            "_model_module": "@jupyter-widgets/base",
            "top": null,
            "grid_column": null,
            "overflow_y": null,
            "overflow_x": null,
            "grid_auto_flow": null,
            "grid_area": null,
            "grid_template_columns": null,
            "flex": null,
            "_model_name": "LayoutModel",
            "justify_items": null,
            "grid_row": null,
            "max_height": null,
            "align_content": null,
            "visibility": null,
            "align_self": null,
            "height": null,
            "min_height": null,
            "padding": null,
            "grid_auto_rows": null,
            "grid_gap": null,
            "max_width": null,
            "order": null,
            "_view_module_version": "1.2.0",
            "grid_template_areas": null,
            "object_position": null,
            "object_fit": null,
            "grid_auto_columns": null,
            "margin": null,
            "display": null,
            "left": null
          }
        },
        "0f6d3ef8f1c04d1aa4d78a0f94f34ea1": {
          "model_module": "@jupyter-widgets/controls",
          "model_name": "HBoxModel",
          "state": {
            "_view_name": "HBoxView",
            "_dom_classes": [],
            "_model_name": "HBoxModel",
            "_view_module": "@jupyter-widgets/controls",
            "_model_module_version": "1.5.0",
            "_view_count": null,
            "_view_module_version": "1.5.0",
            "box_style": "",
            "layout": "IPY_MODEL_15cbaf80fabf4f96a07b7e723de4756f",
            "_model_module": "@jupyter-widgets/controls",
            "children": [
              "IPY_MODEL_44e72b6a6e4240a49a2bdd38d34e68af",
              "IPY_MODEL_286543eeaec2460189030bb81a0499fe"
            ]
          }
        },
        "15cbaf80fabf4f96a07b7e723de4756f": {
          "model_module": "@jupyter-widgets/base",
          "model_name": "LayoutModel",
          "state": {
            "_view_name": "LayoutView",
            "grid_template_rows": null,
            "right": null,
            "justify_content": null,
            "_view_module": "@jupyter-widgets/base",
            "overflow": null,
            "_model_module_version": "1.2.0",
            "_view_count": null,
            "flex_flow": null,
            "width": null,
            "min_width": null,
            "border": null,
            "align_items": null,
            "bottom": null,
            "_model_module": "@jupyter-widgets/base",
            "top": null,
            "grid_column": null,
            "overflow_y": null,
            "overflow_x": null,
            "grid_auto_flow": null,
            "grid_area": null,
            "grid_template_columns": null,
            "flex": null,
            "_model_name": "LayoutModel",
            "justify_items": null,
            "grid_row": null,
            "max_height": null,
            "align_content": null,
            "visibility": null,
            "align_self": null,
            "height": null,
            "min_height": null,
            "padding": null,
            "grid_auto_rows": null,
            "grid_gap": null,
            "max_width": null,
            "order": null,
            "_view_module_version": "1.2.0",
            "grid_template_areas": null,
            "object_position": null,
            "object_fit": null,
            "grid_auto_columns": null,
            "margin": null,
            "display": null,
            "left": null
          }
        },
        "44e72b6a6e4240a49a2bdd38d34e68af": {
          "model_module": "@jupyter-widgets/controls",
          "model_name": "FloatProgressModel",
          "state": {
            "_view_name": "ProgressView",
            "style": "IPY_MODEL_afe8ef11d96c40e5a9076b04fb8f182a",
            "_dom_classes": [],
            "description": "100%",
            "_model_name": "FloatProgressModel",
            "bar_style": "success",
            "max": 36718,
            "_view_module": "@jupyter-widgets/controls",
            "_model_module_version": "1.5.0",
            "value": 36718,
            "_view_count": null,
            "_view_module_version": "1.5.0",
            "orientation": "horizontal",
            "min": 0,
            "description_tooltip": null,
            "_model_module": "@jupyter-widgets/controls",
            "layout": "IPY_MODEL_c6e04a21d2b64fa29936c63549ab4cfb"
          }
        },
        "286543eeaec2460189030bb81a0499fe": {
          "model_module": "@jupyter-widgets/controls",
          "model_name": "HTMLModel",
          "state": {
            "_view_name": "HTMLView",
            "style": "IPY_MODEL_ad9f029694804186a4338b18c811b026",
            "_dom_classes": [],
            "description": "",
            "_model_name": "HTMLModel",
            "placeholder": "​",
            "_view_module": "@jupyter-widgets/controls",
            "_model_module_version": "1.5.0",
            "value": " 36718/36718 [00:04&lt;00:00, 7585.73ex/s]",
            "_view_count": null,
            "_view_module_version": "1.5.0",
            "description_tooltip": null,
            "_model_module": "@jupyter-widgets/controls",
            "layout": "IPY_MODEL_49b0a1b6712c4efca933ac3e228d6479"
          }
        },
        "afe8ef11d96c40e5a9076b04fb8f182a": {
          "model_module": "@jupyter-widgets/controls",
          "model_name": "ProgressStyleModel",
          "state": {
            "_view_name": "StyleView",
            "_model_name": "ProgressStyleModel",
            "description_width": "initial",
            "_view_module": "@jupyter-widgets/base",
            "_model_module_version": "1.5.0",
            "_view_count": null,
            "_view_module_version": "1.2.0",
            "bar_color": null,
            "_model_module": "@jupyter-widgets/controls"
          }
        },
        "c6e04a21d2b64fa29936c63549ab4cfb": {
          "model_module": "@jupyter-widgets/base",
          "model_name": "LayoutModel",
          "state": {
            "_view_name": "LayoutView",
            "grid_template_rows": null,
            "right": null,
            "justify_content": null,
            "_view_module": "@jupyter-widgets/base",
            "overflow": null,
            "_model_module_version": "1.2.0",
            "_view_count": null,
            "flex_flow": null,
            "width": null,
            "min_width": null,
            "border": null,
            "align_items": null,
            "bottom": null,
            "_model_module": "@jupyter-widgets/base",
            "top": null,
            "grid_column": null,
            "overflow_y": null,
            "overflow_x": null,
            "grid_auto_flow": null,
            "grid_area": null,
            "grid_template_columns": null,
            "flex": null,
            "_model_name": "LayoutModel",
            "justify_items": null,
            "grid_row": null,
            "max_height": null,
            "align_content": null,
            "visibility": null,
            "align_self": null,
            "height": null,
            "min_height": null,
            "padding": null,
            "grid_auto_rows": null,
            "grid_gap": null,
            "max_width": null,
            "order": null,
            "_view_module_version": "1.2.0",
            "grid_template_areas": null,
            "object_position": null,
            "object_fit": null,
            "grid_auto_columns": null,
            "margin": null,
            "display": null,
            "left": null
          }
        },
        "ad9f029694804186a4338b18c811b026": {
          "model_module": "@jupyter-widgets/controls",
          "model_name": "DescriptionStyleModel",
          "state": {
            "_view_name": "StyleView",
            "_model_name": "DescriptionStyleModel",
            "description_width": "",
            "_view_module": "@jupyter-widgets/base",
            "_model_module_version": "1.5.0",
            "_view_count": null,
            "_view_module_version": "1.2.0",
            "_model_module": "@jupyter-widgets/controls"
          }
        },
        "49b0a1b6712c4efca933ac3e228d6479": {
          "model_module": "@jupyter-widgets/base",
          "model_name": "LayoutModel",
          "state": {
            "_view_name": "LayoutView",
            "grid_template_rows": null,
            "right": null,
            "justify_content": null,
            "_view_module": "@jupyter-widgets/base",
            "overflow": null,
            "_model_module_version": "1.2.0",
            "_view_count": null,
            "flex_flow": null,
            "width": null,
            "min_width": null,
            "border": null,
            "align_items": null,
            "bottom": null,
            "_model_module": "@jupyter-widgets/base",
            "top": null,
            "grid_column": null,
            "overflow_y": null,
            "overflow_x": null,
            "grid_auto_flow": null,
            "grid_area": null,
            "grid_template_columns": null,
            "flex": null,
            "_model_name": "LayoutModel",
            "justify_items": null,
            "grid_row": null,
            "max_height": null,
            "align_content": null,
            "visibility": null,
            "align_self": null,
            "height": null,
            "min_height": null,
            "padding": null,
            "grid_auto_rows": null,
            "grid_gap": null,
            "max_width": null,
            "order": null,
            "_view_module_version": "1.2.0",
            "grid_template_areas": null,
            "object_position": null,
            "object_fit": null,
            "grid_auto_columns": null,
            "margin": null,
            "display": null,
            "left": null
          }
        },
        "dc80a9ae3bf74c678c784950d1ef8b81": {
          "model_module": "@jupyter-widgets/controls",
          "model_name": "HBoxModel",
          "state": {
            "_view_name": "HBoxView",
            "_dom_classes": [],
            "_model_name": "HBoxModel",
            "_view_module": "@jupyter-widgets/controls",
            "_model_module_version": "1.5.0",
            "_view_count": null,
            "_view_module_version": "1.5.0",
            "box_style": "",
            "layout": "IPY_MODEL_3cc21fcb78ac4cfdab8ecdb4d4059340",
            "_model_module": "@jupyter-widgets/controls",
            "children": [
              "IPY_MODEL_14b6cb957216407095358d9edc62720b",
              "IPY_MODEL_52da101126eb49bd9da225d328e3cb20"
            ]
          }
        },
        "3cc21fcb78ac4cfdab8ecdb4d4059340": {
          "model_module": "@jupyter-widgets/base",
          "model_name": "LayoutModel",
          "state": {
            "_view_name": "LayoutView",
            "grid_template_rows": null,
            "right": null,
            "justify_content": null,
            "_view_module": "@jupyter-widgets/base",
            "overflow": null,
            "_model_module_version": "1.2.0",
            "_view_count": null,
            "flex_flow": null,
            "width": null,
            "min_width": null,
            "border": null,
            "align_items": null,
            "bottom": null,
            "_model_module": "@jupyter-widgets/base",
            "top": null,
            "grid_column": null,
            "overflow_y": null,
            "overflow_x": null,
            "grid_auto_flow": null,
            "grid_area": null,
            "grid_template_columns": null,
            "flex": null,
            "_model_name": "LayoutModel",
            "justify_items": null,
            "grid_row": null,
            "max_height": null,
            "align_content": null,
            "visibility": null,
            "align_self": null,
            "height": null,
            "min_height": null,
            "padding": null,
            "grid_auto_rows": null,
            "grid_gap": null,
            "max_width": null,
            "order": null,
            "_view_module_version": "1.2.0",
            "grid_template_areas": null,
            "object_position": null,
            "object_fit": null,
            "grid_auto_columns": null,
            "margin": null,
            "display": null,
            "left": null
          }
        },
        "14b6cb957216407095358d9edc62720b": {
          "model_module": "@jupyter-widgets/controls",
          "model_name": "FloatProgressModel",
          "state": {
            "_view_name": "ProgressView",
            "style": "IPY_MODEL_f129b0a9506b40f39702438207016dcd",
            "_dom_classes": [],
            "description": "100%",
            "_model_name": "FloatProgressModel",
            "bar_style": "success",
            "max": 3760,
            "_view_module": "@jupyter-widgets/controls",
            "_model_module_version": "1.5.0",
            "value": 3760,
            "_view_count": null,
            "_view_module_version": "1.5.0",
            "orientation": "horizontal",
            "min": 0,
            "description_tooltip": null,
            "_model_module": "@jupyter-widgets/controls",
            "layout": "IPY_MODEL_b9b0457cd39a491a98d0dbe3c214d566"
          }
        },
        "52da101126eb49bd9da225d328e3cb20": {
          "model_module": "@jupyter-widgets/controls",
          "model_name": "HTMLModel",
          "state": {
            "_view_name": "HTMLView",
            "style": "IPY_MODEL_fe7bd73a92dd4ad689f49974802fd9c8",
            "_dom_classes": [],
            "description": "",
            "_model_name": "HTMLModel",
            "placeholder": "​",
            "_view_module": "@jupyter-widgets/controls",
            "_model_module_version": "1.5.0",
            "value": " 3760/3760 [00:00&lt;00:00, 7548.13ex/s]",
            "_view_count": null,
            "_view_module_version": "1.5.0",
            "description_tooltip": null,
            "_model_module": "@jupyter-widgets/controls",
            "layout": "IPY_MODEL_17f6ae4044b14a5f8a1bb803d618379b"
          }
        },
        "f129b0a9506b40f39702438207016dcd": {
          "model_module": "@jupyter-widgets/controls",
          "model_name": "ProgressStyleModel",
          "state": {
            "_view_name": "StyleView",
            "_model_name": "ProgressStyleModel",
            "description_width": "initial",
            "_view_module": "@jupyter-widgets/base",
            "_model_module_version": "1.5.0",
            "_view_count": null,
            "_view_module_version": "1.2.0",
            "bar_color": null,
            "_model_module": "@jupyter-widgets/controls"
          }
        },
        "b9b0457cd39a491a98d0dbe3c214d566": {
          "model_module": "@jupyter-widgets/base",
          "model_name": "LayoutModel",
          "state": {
            "_view_name": "LayoutView",
            "grid_template_rows": null,
            "right": null,
            "justify_content": null,
            "_view_module": "@jupyter-widgets/base",
            "overflow": null,
            "_model_module_version": "1.2.0",
            "_view_count": null,
            "flex_flow": null,
            "width": null,
            "min_width": null,
            "border": null,
            "align_items": null,
            "bottom": null,
            "_model_module": "@jupyter-widgets/base",
            "top": null,
            "grid_column": null,
            "overflow_y": null,
            "overflow_x": null,
            "grid_auto_flow": null,
            "grid_area": null,
            "grid_template_columns": null,
            "flex": null,
            "_model_name": "LayoutModel",
            "justify_items": null,
            "grid_row": null,
            "max_height": null,
            "align_content": null,
            "visibility": null,
            "align_self": null,
            "height": null,
            "min_height": null,
            "padding": null,
            "grid_auto_rows": null,
            "grid_gap": null,
            "max_width": null,
            "order": null,
            "_view_module_version": "1.2.0",
            "grid_template_areas": null,
            "object_position": null,
            "object_fit": null,
            "grid_auto_columns": null,
            "margin": null,
            "display": null,
            "left": null
          }
        },
        "fe7bd73a92dd4ad689f49974802fd9c8": {
          "model_module": "@jupyter-widgets/controls",
          "model_name": "DescriptionStyleModel",
          "state": {
            "_view_name": "StyleView",
            "_model_name": "DescriptionStyleModel",
            "description_width": "",
            "_view_module": "@jupyter-widgets/base",
            "_model_module_version": "1.5.0",
            "_view_count": null,
            "_view_module_version": "1.2.0",
            "_model_module": "@jupyter-widgets/controls"
          }
        },
        "17f6ae4044b14a5f8a1bb803d618379b": {
          "model_module": "@jupyter-widgets/base",
          "model_name": "LayoutModel",
          "state": {
            "_view_name": "LayoutView",
            "grid_template_rows": null,
            "right": null,
            "justify_content": null,
            "_view_module": "@jupyter-widgets/base",
            "overflow": null,
            "_model_module_version": "1.2.0",
            "_view_count": null,
            "flex_flow": null,
            "width": null,
            "min_width": null,
            "border": null,
            "align_items": null,
            "bottom": null,
            "_model_module": "@jupyter-widgets/base",
            "top": null,
            "grid_column": null,
            "overflow_y": null,
            "overflow_x": null,
            "grid_auto_flow": null,
            "grid_area": null,
            "grid_template_columns": null,
            "flex": null,
            "_model_name": "LayoutModel",
            "justify_items": null,
            "grid_row": null,
            "max_height": null,
            "align_content": null,
            "visibility": null,
            "align_self": null,
            "height": null,
            "min_height": null,
            "padding": null,
            "grid_auto_rows": null,
            "grid_gap": null,
            "max_width": null,
            "order": null,
            "_view_module_version": "1.2.0",
            "grid_template_areas": null,
            "object_position": null,
            "object_fit": null,
            "grid_auto_columns": null,
            "margin": null,
            "display": null,
            "left": null
          }
        }
      }
    }
  },
  "cells": [
    {
      "cell_type": "code",
      "metadata": {
        "colab": {
          "base_uri": "https://localhost:8080/"
        },
        "id": "5STVFAnSKbhu",
        "outputId": "669eb4d9-4a84-4710-bbf8-44f2ae148039"
      },
      "source": [
        "!pip install torch==1.9 torchtext==0.10"
      ],
      "execution_count": null,
      "outputs": [
        {
          "output_type": "stream",
          "text": [
            "Requirement already satisfied: torch==1.9 in /usr/local/lib/python3.7/dist-packages (1.9.0+cu102)\n",
            "Requirement already satisfied: torchtext==0.10 in /usr/local/lib/python3.7/dist-packages (0.10.0)\n",
            "Requirement already satisfied: typing-extensions in /usr/local/lib/python3.7/dist-packages (from torch==1.9) (3.7.4.3)\n",
            "Requirement already satisfied: requests in /usr/local/lib/python3.7/dist-packages (from torchtext==0.10) (2.23.0)\n",
            "Requirement already satisfied: tqdm in /usr/local/lib/python3.7/dist-packages (from torchtext==0.10) (4.41.1)\n",
            "Requirement already satisfied: numpy in /usr/local/lib/python3.7/dist-packages (from torchtext==0.10) (1.19.5)\n",
            "Requirement already satisfied: certifi>=2017.4.17 in /usr/local/lib/python3.7/dist-packages (from requests->torchtext==0.10) (2021.5.30)\n",
            "Requirement already satisfied: chardet<4,>=3.0.2 in /usr/local/lib/python3.7/dist-packages (from requests->torchtext==0.10) (3.0.4)\n",
            "Requirement already satisfied: urllib3!=1.25.0,!=1.25.1,<1.26,>=1.21.1 in /usr/local/lib/python3.7/dist-packages (from requests->torchtext==0.10) (1.24.3)\n",
            "Requirement already satisfied: idna<3,>=2.5 in /usr/local/lib/python3.7/dist-packages (from requests->torchtext==0.10) (2.10)\n"
          ],
          "name": "stdout"
        }
      ]
    },
    {
      "cell_type": "code",
      "metadata": {
        "id": "IV9Cis3HdHp8",
        "colab": {
          "base_uri": "https://localhost:8080/"
        },
        "outputId": "4f76caf6-2af9-40cb-9cfc-c2856b524ca0"
      },
      "source": [
        "!pip install datasets"
      ],
      "execution_count": null,
      "outputs": [
        {
          "output_type": "stream",
          "text": [
            "Collecting datasets\n",
            "\u001b[?25l  Downloading https://files.pythonhosted.org/packages/08/a2/d4e1024c891506e1cee8f9d719d20831bac31cb5b7416983c4d2f65a6287/datasets-1.8.0-py3-none-any.whl (237kB)\n",
            "\r\u001b[K     |█▍                              | 10kB 14.4MB/s eta 0:00:01\r\u001b[K     |██▊                             | 20kB 9.3MB/s eta 0:00:01\r\u001b[K     |████▏                           | 30kB 6.0MB/s eta 0:00:01\r\u001b[K     |█████▌                          | 40kB 5.5MB/s eta 0:00:01\r\u001b[K     |███████                         | 51kB 3.0MB/s eta 0:00:01\r\u001b[K     |████████▎                       | 61kB 3.3MB/s eta 0:00:01\r\u001b[K     |█████████▋                      | 71kB 3.5MB/s eta 0:00:01\r\u001b[K     |███████████                     | 81kB 3.7MB/s eta 0:00:01\r\u001b[K     |████████████▍                   | 92kB 3.7MB/s eta 0:00:01\r\u001b[K     |█████████████▉                  | 102kB 2.9MB/s eta 0:00:01\r\u001b[K     |███████████████▏                | 112kB 2.9MB/s eta 0:00:01\r\u001b[K     |████████████████▌               | 122kB 2.9MB/s eta 0:00:01\r\u001b[K     |██████████████████              | 133kB 2.9MB/s eta 0:00:01\r\u001b[K     |███████████████████▎            | 143kB 2.9MB/s eta 0:00:01\r\u001b[K     |████████████████████▊           | 153kB 2.9MB/s eta 0:00:01\r\u001b[K     |██████████████████████          | 163kB 2.9MB/s eta 0:00:01\r\u001b[K     |███████████████████████▌        | 174kB 2.9MB/s eta 0:00:01\r\u001b[K     |████████████████████████▉       | 184kB 2.9MB/s eta 0:00:01\r\u001b[K     |██████████████████████████▏     | 194kB 2.9MB/s eta 0:00:01\r\u001b[K     |███████████████████████████▋    | 204kB 2.9MB/s eta 0:00:01\r\u001b[K     |█████████████████████████████   | 215kB 2.9MB/s eta 0:00:01\r\u001b[K     |██████████████████████████████▍ | 225kB 2.9MB/s eta 0:00:01\r\u001b[K     |███████████████████████████████▊| 235kB 2.9MB/s eta 0:00:01\r\u001b[K     |████████████████████████████████| 245kB 2.9MB/s \n",
            "\u001b[?25hRequirement already satisfied: importlib-metadata; python_version < \"3.8\" in /usr/local/lib/python3.7/dist-packages (from datasets) (4.5.0)\n",
            "Requirement already satisfied: requests>=2.19.0 in /usr/local/lib/python3.7/dist-packages (from datasets) (2.23.0)\n",
            "Requirement already satisfied: pandas in /usr/local/lib/python3.7/dist-packages (from datasets) (1.1.5)\n",
            "Requirement already satisfied: tqdm<4.50.0,>=4.27 in /usr/local/lib/python3.7/dist-packages (from datasets) (4.41.1)\n",
            "Collecting huggingface-hub<0.1.0\n",
            "  Downloading https://files.pythonhosted.org/packages/3c/e3/fb7b6aefaf0fc7b792cebbbd590b1895c022ab0ff27f389e1019c6f2e68a/huggingface_hub-0.0.10-py3-none-any.whl\n",
            "Requirement already satisfied: multiprocess in /usr/local/lib/python3.7/dist-packages (from datasets) (0.70.12.2)\n",
            "Requirement already satisfied: pyarrow<4.0.0,>=1.0.0 in /usr/local/lib/python3.7/dist-packages (from datasets) (3.0.0)\n",
            "Collecting xxhash\n",
            "\u001b[?25l  Downloading https://files.pythonhosted.org/packages/7d/4f/0a862cad26aa2ed7a7cd87178cbbfa824fc1383e472d63596a0d018374e7/xxhash-2.0.2-cp37-cp37m-manylinux2010_x86_64.whl (243kB)\n",
            "\u001b[K     |████████████████████████████████| 245kB 4.7MB/s \n",
            "\u001b[?25hCollecting fsspec\n",
            "\u001b[?25l  Downloading https://files.pythonhosted.org/packages/8e/d2/d05466997f7751a2c06a7a416b7d1f131d765f7916698d3fdcb3a4d037e5/fsspec-2021.6.0-py3-none-any.whl (114kB)\n",
            "\u001b[K     |████████████████████████████████| 122kB 5.2MB/s \n",
            "\u001b[?25hRequirement already satisfied: dill in /usr/local/lib/python3.7/dist-packages (from datasets) (0.3.4)\n",
            "Requirement already satisfied: packaging in /usr/local/lib/python3.7/dist-packages (from datasets) (20.9)\n",
            "Requirement already satisfied: numpy>=1.17 in /usr/local/lib/python3.7/dist-packages (from datasets) (1.19.5)\n",
            "Requirement already satisfied: typing-extensions>=3.6.4; python_version < \"3.8\" in /usr/local/lib/python3.7/dist-packages (from importlib-metadata; python_version < \"3.8\"->datasets) (3.7.4.3)\n",
            "Requirement already satisfied: zipp>=0.5 in /usr/local/lib/python3.7/dist-packages (from importlib-metadata; python_version < \"3.8\"->datasets) (3.4.1)\n",
            "Requirement already satisfied: chardet<4,>=3.0.2 in /usr/local/lib/python3.7/dist-packages (from requests>=2.19.0->datasets) (3.0.4)\n",
            "Requirement already satisfied: idna<3,>=2.5 in /usr/local/lib/python3.7/dist-packages (from requests>=2.19.0->datasets) (2.10)\n",
            "Requirement already satisfied: urllib3!=1.25.0,!=1.25.1,<1.26,>=1.21.1 in /usr/local/lib/python3.7/dist-packages (from requests>=2.19.0->datasets) (1.24.3)\n",
            "Requirement already satisfied: certifi>=2017.4.17 in /usr/local/lib/python3.7/dist-packages (from requests>=2.19.0->datasets) (2021.5.30)\n",
            "Requirement already satisfied: pytz>=2017.2 in /usr/local/lib/python3.7/dist-packages (from pandas->datasets) (2018.9)\n",
            "Requirement already satisfied: python-dateutil>=2.7.3 in /usr/local/lib/python3.7/dist-packages (from pandas->datasets) (2.8.1)\n",
            "Requirement already satisfied: filelock in /usr/local/lib/python3.7/dist-packages (from huggingface-hub<0.1.0->datasets) (3.0.12)\n",
            "Requirement already satisfied: pyparsing>=2.0.2 in /usr/local/lib/python3.7/dist-packages (from packaging->datasets) (2.4.7)\n",
            "Requirement already satisfied: six>=1.5 in /usr/local/lib/python3.7/dist-packages (from python-dateutil>=2.7.3->pandas->datasets) (1.15.0)\n",
            "Installing collected packages: huggingface-hub, xxhash, fsspec, datasets\n",
            "Successfully installed datasets-1.8.0 fsspec-2021.6.0 huggingface-hub-0.0.10 xxhash-2.0.2\n"
          ],
          "name": "stdout"
        }
      ]
    },
    {
      "cell_type": "code",
      "metadata": {
        "id": "uaD4Nk85FsZc"
      },
      "source": [
        "import math\n",
        "import time\n",
        "import random\n",
        "\n",
        "import torch\n",
        "import torch.nn as nn\n",
        "import torch.optim as optim\n",
        "\n",
        "import torchtext\n",
        "\n",
        "import datasets"
      ],
      "execution_count": null,
      "outputs": []
    },
    {
      "cell_type": "code",
      "metadata": {
        "id": "N1dT3x9ZFt-N",
        "colab": {
          "base_uri": "https://localhost:8080/"
        },
        "outputId": "160e2af3-ceaf-47da-d313-084bef08f372"
      },
      "source": [
        "print(torch.__version__)\n",
        "print(torchtext.__version__)"
      ],
      "execution_count": null,
      "outputs": [
        {
          "output_type": "stream",
          "text": [
            "1.9.0+cu102\n",
            "0.10.0\n"
          ],
          "name": "stdout"
        }
      ]
    },
    {
      "cell_type": "code",
      "metadata": {
        "id": "z8xZhIfJ9smN"
      },
      "source": [
        "torch.manual_seed(0)\n",
        "random.seed(0)"
      ],
      "execution_count": null,
      "outputs": []
    },
    {
      "cell_type": "code",
      "metadata": {
        "id": "djyFDC4QFwVh",
        "colab": {
          "base_uri": "https://localhost:8080/",
          "height": 220,
          "referenced_widgets": [
            "abe9a8f800364c91b125fcc5f37f66f0",
            "0d2078c5a4244fd49f40704bf27463ff",
            "0bfec18ed7f340dbb9a580376534dcf6",
            "155d4af5da424172a27149fbf70d42a7",
            "58dfdb7aba414078bf42c0028ca98b73",
            "a30eb22b583d4cdfb894c9204cecd50d",
            "15fd0d8adaa843de9d1eafa286f665b3",
            "2915025bad24457bb3da2a1248dbe735",
            "de6c8260019d4ebb97697edb4d606088",
            "d36db920a3a24630884db901286bfb11",
            "cf57a8173def455f9fbbeefef87ce07e",
            "db3589b2a9144da797dcaa7f177fb6eb",
            "41cf3ede19674a718edbef950ce5cba9",
            "e37078e54bec4ef49985c8dc77ad06d2",
            "b1da6f7126144df18d8cf4fc3a7310d6",
            "bcbe4e48c5c14c9fa61eaf2bdcf3e2fb",
            "91c199e9cd564f64b3a2051ccac6b873",
            "b3208de42ec04f92beb32b46c18922ea",
            "a3285eeb59c94c33bb85ea9af848f2bb",
            "20f9b02342f245f3b8e6713b43abdcec",
            "fcf037ebe88d49fa84a224e56cd14962",
            "6f7784e1b1a14d16ba4eb83dde4d1cb4",
            "436ab2056ed549bcb18149ce623baa57",
            "3847bbb558054e0bbace32093007fccb",
            "e3f17eec37d743428ce82fc81ea53ff8",
            "54a022e92fe948efa862cb5b19c7064f",
            "916fb9c620d14490878f7b4f3b19b691",
            "ed4283dc57fd4905a67c23017ce4dd4a",
            "6989cb524b5c4a5ab838cd14f19075f8",
            "c1245e3c8a9346268f7e5fbb3fe34edf",
            "e1ce5e14a9ca4b868a61b0735a6a2a36",
            "7dd6fd04d16f4a058324cff5a31911fa",
            "2168c61427ee4e33ad70383c5373f2d9",
            "7dd4efa1b6674577aa4e7f73fbe237c0",
            "7d0327192aa04d81a38165057b12acfa",
            "1b6e0c28e5c440fca421485f3b3531de",
            "c4f98c7dd789425a9fe25d13acdeee5d",
            "f8fa5ad533964c6f99799579b8032ae1",
            "53f59767eea44d1c8c63a601845fb1a8",
            "1c3d0f6abf6149ccb1d103a3a5293afa",
            "aa582623dfc04543be2bbefe884905ba",
            "849a78ad8a704be9a5bf4202703faa4b",
            "02e7be20af604279861f79de2f22aaf2",
            "b9fda83901bb4ba9bc8396062480bdf1",
            "8347ae14f4d34ed781bbc441734f0f3d",
            "314670e45d7d4df0b0e24f384e5ef493",
            "b5c2354627d04b8d9aa84bc170cda0c8",
            "e63ddc1ac6bb4e7d9c153fbe698204db"
          ]
        },
        "outputId": "f951030f-d9e6-43eb-87dd-9aa3c124662f"
      },
      "source": [
        "dataset = datasets.load_dataset('wikitext', 'wikitext-2-raw-v1')"
      ],
      "execution_count": null,
      "outputs": [
        {
          "output_type": "display_data",
          "data": {
            "application/vnd.jupyter.widget-view+json": {
              "model_id": "abe9a8f800364c91b125fcc5f37f66f0",
              "version_minor": 0,
              "version_major": 2
            },
            "text/plain": [
              "HBox(children=(FloatProgress(value=0.0, description='Downloading', max=1934.0, style=ProgressStyle(description…"
            ]
          },
          "metadata": {
            "tags": []
          }
        },
        {
          "output_type": "stream",
          "text": [
            "\n"
          ],
          "name": "stdout"
        },
        {
          "output_type": "display_data",
          "data": {
            "application/vnd.jupyter.widget-view+json": {
              "model_id": "de6c8260019d4ebb97697edb4d606088",
              "version_minor": 0,
              "version_major": 2
            },
            "text/plain": [
              "HBox(children=(FloatProgress(value=0.0, description='Downloading', max=1124.0, style=ProgressStyle(description…"
            ]
          },
          "metadata": {
            "tags": []
          }
        },
        {
          "output_type": "stream",
          "text": [
            "\n",
            "Downloading and preparing dataset wikitext/wikitext-2-raw-v1 (download: 4.50 MiB, generated: 12.91 MiB, post-processed: Unknown size, total: 17.41 MiB) to /root/.cache/huggingface/datasets/wikitext/wikitext-2-raw-v1/1.0.0/aa5e094000ec7afeb74c3be92c88313cd6f132d564c7effd961c10fd47c76f20...\n"
          ],
          "name": "stdout"
        },
        {
          "output_type": "display_data",
          "data": {
            "application/vnd.jupyter.widget-view+json": {
              "model_id": "91c199e9cd564f64b3a2051ccac6b873",
              "version_minor": 0,
              "version_major": 2
            },
            "text/plain": [
              "HBox(children=(FloatProgress(value=0.0, description='Downloading', max=4721645.0, style=ProgressStyle(descript…"
            ]
          },
          "metadata": {
            "tags": []
          }
        },
        {
          "output_type": "stream",
          "text": [
            "\n"
          ],
          "name": "stdout"
        },
        {
          "output_type": "display_data",
          "data": {
            "application/vnd.jupyter.widget-view+json": {
              "model_id": "e3f17eec37d743428ce82fc81ea53ff8",
              "version_minor": 0,
              "version_major": 2
            },
            "text/plain": [
              "HBox(children=(FloatProgress(value=1.0, bar_style='info', max=1.0), HTML(value='')))"
            ]
          },
          "metadata": {
            "tags": []
          }
        },
        {
          "output_type": "stream",
          "text": [
            "\r"
          ],
          "name": "stdout"
        },
        {
          "output_type": "display_data",
          "data": {
            "application/vnd.jupyter.widget-view+json": {
              "model_id": "2168c61427ee4e33ad70383c5373f2d9",
              "version_minor": 0,
              "version_major": 2
            },
            "text/plain": [
              "HBox(children=(FloatProgress(value=1.0, bar_style='info', max=1.0), HTML(value='')))"
            ]
          },
          "metadata": {
            "tags": []
          }
        },
        {
          "output_type": "stream",
          "text": [
            "\r"
          ],
          "name": "stdout"
        },
        {
          "output_type": "display_data",
          "data": {
            "application/vnd.jupyter.widget-view+json": {
              "model_id": "aa582623dfc04543be2bbefe884905ba",
              "version_minor": 0,
              "version_major": 2
            },
            "text/plain": [
              "HBox(children=(FloatProgress(value=1.0, bar_style='info', max=1.0), HTML(value='')))"
            ]
          },
          "metadata": {
            "tags": []
          }
        },
        {
          "output_type": "stream",
          "text": [
            "\rDataset wikitext downloaded and prepared to /root/.cache/huggingface/datasets/wikitext/wikitext-2-raw-v1/1.0.0/aa5e094000ec7afeb74c3be92c88313cd6f132d564c7effd961c10fd47c76f20. Subsequent calls will reuse this data.\n"
          ],
          "name": "stdout"
        }
      ]
    },
    {
      "cell_type": "code",
      "metadata": {
        "id": "6B_uOuSTF0PU",
        "colab": {
          "base_uri": "https://localhost:8080/"
        },
        "outputId": "965e080d-4dba-4ae5-eabf-14700656bddb"
      },
      "source": [
        "dataset"
      ],
      "execution_count": null,
      "outputs": [
        {
          "output_type": "execute_result",
          "data": {
            "text/plain": [
              "DatasetDict({\n",
              "    test: Dataset({\n",
              "        features: ['text'],\n",
              "        num_rows: 4358\n",
              "    })\n",
              "    train: Dataset({\n",
              "        features: ['text'],\n",
              "        num_rows: 36718\n",
              "    })\n",
              "    validation: Dataset({\n",
              "        features: ['text'],\n",
              "        num_rows: 3760\n",
              "    })\n",
              "})"
            ]
          },
          "metadata": {
            "tags": []
          },
          "execution_count": 7
        }
      ]
    },
    {
      "cell_type": "code",
      "metadata": {
        "id": "E5QwnBkTcfNo",
        "colab": {
          "base_uri": "https://localhost:8080/"
        },
        "outputId": "8ead21a3-26ac-42be-f66a-ba26a0e31f67"
      },
      "source": [
        "dataset['train'][0]"
      ],
      "execution_count": null,
      "outputs": [
        {
          "output_type": "execute_result",
          "data": {
            "text/plain": [
              "{'text': ''}"
            ]
          },
          "metadata": {
            "tags": []
          },
          "execution_count": 8
        }
      ]
    },
    {
      "cell_type": "code",
      "metadata": {
        "id": "Pp-LECVmcgSt",
        "colab": {
          "base_uri": "https://localhost:8080/"
        },
        "outputId": "ca64af47-09f4-4be3-dfc7-6e279ca5f88f"
      },
      "source": [
        "dataset['train'][1]"
      ],
      "execution_count": null,
      "outputs": [
        {
          "output_type": "execute_result",
          "data": {
            "text/plain": [
              "{'text': ' = Valkyria Chronicles III = \\n'}"
            ]
          },
          "metadata": {
            "tags": []
          },
          "execution_count": 9
        }
      ]
    },
    {
      "cell_type": "code",
      "metadata": {
        "id": "gKcltvAsfgHW"
      },
      "source": [
        "tokenizer = torchtext.data.utils.get_tokenizer('basic_english')"
      ],
      "execution_count": null,
      "outputs": []
    },
    {
      "cell_type": "code",
      "metadata": {
        "id": "kCJYUEGrfxo6",
        "colab": {
          "base_uri": "https://localhost:8080/"
        },
        "outputId": "03bcf103-e7d6-41ed-9de8-45c29b1da835"
      },
      "source": [
        "tokenizer('hello world how are you?')"
      ],
      "execution_count": null,
      "outputs": [
        {
          "output_type": "execute_result",
          "data": {
            "text/plain": [
              "['hello', 'world', 'how', 'are', 'you', '?']"
            ]
          },
          "metadata": {
            "tags": []
          },
          "execution_count": 11
        }
      ]
    },
    {
      "cell_type": "code",
      "metadata": {
        "id": "r4ipPKSwf0jq",
        "colab": {
          "base_uri": "https://localhost:8080/"
        },
        "outputId": "6b96188d-b2ff-4dff-a01d-e583def7e490"
      },
      "source": [
        "tokenizer(dataset['train'][1]['text'])"
      ],
      "execution_count": null,
      "outputs": [
        {
          "output_type": "execute_result",
          "data": {
            "text/plain": [
              "['=', 'valkyria', 'chronicles', 'iii', '=']"
            ]
          },
          "metadata": {
            "tags": []
          },
          "execution_count": 12
        }
      ]
    },
    {
      "cell_type": "code",
      "metadata": {
        "id": "aODmmThhcpTx"
      },
      "source": [
        "def tokenize_data(example, tokenizer):\n",
        "    tokens = {'tokens': tokenizer(example['text'])}\n",
        "    return tokens"
      ],
      "execution_count": null,
      "outputs": []
    },
    {
      "cell_type": "code",
      "metadata": {
        "id": "Q5x9lbSFc5Yh",
        "colab": {
          "base_uri": "https://localhost:8080/",
          "height": 165,
          "referenced_widgets": [
            "b406a4a93d6d459ca7d4ee924d7716d7",
            "479b4abc96854fb6aba7c2f09c45a121",
            "d33b13b8cb614be399f4d5460f1192d4",
            "19d3b4f3291a4861a91f8b1479bb8cb0",
            "8855c1657f7949e1894e946eee3c8fff",
            "d94ec42bcb4f48eb9a880b97fabb1670",
            "a9c4de22bea741f797d2c006f93d1f4f",
            "15d90f22d4f945ecaad49f5a21a66743",
            "0f6d3ef8f1c04d1aa4d78a0f94f34ea1",
            "15cbaf80fabf4f96a07b7e723de4756f",
            "44e72b6a6e4240a49a2bdd38d34e68af",
            "286543eeaec2460189030bb81a0499fe",
            "afe8ef11d96c40e5a9076b04fb8f182a",
            "c6e04a21d2b64fa29936c63549ab4cfb",
            "ad9f029694804186a4338b18c811b026",
            "49b0a1b6712c4efca933ac3e228d6479",
            "dc80a9ae3bf74c678c784950d1ef8b81",
            "3cc21fcb78ac4cfdab8ecdb4d4059340",
            "14b6cb957216407095358d9edc62720b",
            "52da101126eb49bd9da225d328e3cb20",
            "f129b0a9506b40f39702438207016dcd",
            "b9b0457cd39a491a98d0dbe3c214d566",
            "fe7bd73a92dd4ad689f49974802fd9c8",
            "17f6ae4044b14a5f8a1bb803d618379b"
          ]
        },
        "outputId": "f1564850-5b06-4208-d93e-5464139e061a"
      },
      "source": [
        "tokenized_dataset = dataset.map(tokenize_data, remove_columns=['text'], fn_kwargs={'tokenizer': tokenizer})"
      ],
      "execution_count": null,
      "outputs": [
        {
          "output_type": "display_data",
          "data": {
            "application/vnd.jupyter.widget-view+json": {
              "model_id": "b406a4a93d6d459ca7d4ee924d7716d7",
              "version_minor": 0,
              "version_major": 2
            },
            "text/plain": [
              "HBox(children=(FloatProgress(value=0.0, max=4358.0), HTML(value='')))"
            ]
          },
          "metadata": {
            "tags": []
          }
        },
        {
          "output_type": "stream",
          "text": [
            "\n"
          ],
          "name": "stdout"
        },
        {
          "output_type": "display_data",
          "data": {
            "application/vnd.jupyter.widget-view+json": {
              "model_id": "0f6d3ef8f1c04d1aa4d78a0f94f34ea1",
              "version_minor": 0,
              "version_major": 2
            },
            "text/plain": [
              "HBox(children=(FloatProgress(value=0.0, max=36718.0), HTML(value='')))"
            ]
          },
          "metadata": {
            "tags": []
          }
        },
        {
          "output_type": "stream",
          "text": [
            "\n"
          ],
          "name": "stdout"
        },
        {
          "output_type": "display_data",
          "data": {
            "application/vnd.jupyter.widget-view+json": {
              "model_id": "dc80a9ae3bf74c678c784950d1ef8b81",
              "version_minor": 0,
              "version_major": 2
            },
            "text/plain": [
              "HBox(children=(FloatProgress(value=0.0, max=3760.0), HTML(value='')))"
            ]
          },
          "metadata": {
            "tags": []
          }
        },
        {
          "output_type": "stream",
          "text": [
            "\n"
          ],
          "name": "stdout"
        }
      ]
    },
    {
      "cell_type": "code",
      "metadata": {
        "id": "IcGF9LYAiEqB",
        "colab": {
          "base_uri": "https://localhost:8080/"
        },
        "outputId": "7418714b-3cf1-4abb-8352-025f51ae9f1b"
      },
      "source": [
        "tokenized_dataset['train'][1]"
      ],
      "execution_count": null,
      "outputs": [
        {
          "output_type": "execute_result",
          "data": {
            "text/plain": [
              "{'tokens': ['=', 'valkyria', 'chronicles', 'iii', '=']}"
            ]
          },
          "metadata": {
            "tags": []
          },
          "execution_count": 15
        }
      ]
    },
    {
      "cell_type": "code",
      "metadata": {
        "id": "4c1NIY8yiHJo"
      },
      "source": [
        "vocab = torchtext.vocab.build_vocab_from_iterator(tokenized_dataset['train']['tokens'],\n",
        "                                                  min_freq=3)"
      ],
      "execution_count": null,
      "outputs": []
    },
    {
      "cell_type": "code",
      "metadata": {
        "id": "9onJczdaiq1K",
        "colab": {
          "base_uri": "https://localhost:8080/"
        },
        "outputId": "4d7c44f7-9ddf-43c3-a0ad-fe6515c6fe66"
      },
      "source": [
        "vocab.get_itos()[:10]"
      ],
      "execution_count": null,
      "outputs": [
        {
          "output_type": "execute_result",
          "data": {
            "text/plain": [
              "['the', ',', '.', 'of', 'and', 'in', 'to', 'a', '=', 'was']"
            ]
          },
          "metadata": {
            "tags": []
          },
          "execution_count": 17
        }
      ]
    },
    {
      "cell_type": "code",
      "metadata": {
        "id": "QzS26a0GIERG",
        "colab": {
          "base_uri": "https://localhost:8080/"
        },
        "outputId": "fb901d4b-6a11-4321-f1e5-b2aa6cd4410f"
      },
      "source": [
        "len(vocab)"
      ],
      "execution_count": null,
      "outputs": [
        {
          "output_type": "execute_result",
          "data": {
            "text/plain": [
              "29471"
            ]
          },
          "metadata": {
            "tags": []
          },
          "execution_count": 18
        }
      ]
    },
    {
      "cell_type": "code",
      "metadata": {
        "id": "YUSGIDkP_YvP",
        "colab": {
          "base_uri": "https://localhost:8080/"
        },
        "outputId": "58a92c79-91fa-4569-bb62-cc6c04ef715f"
      },
      "source": [
        "'hello' in vocab"
      ],
      "execution_count": null,
      "outputs": [
        {
          "output_type": "execute_result",
          "data": {
            "text/plain": [
              "False"
            ]
          },
          "metadata": {
            "tags": []
          },
          "execution_count": 19
        }
      ]
    },
    {
      "cell_type": "code",
      "metadata": {
        "id": "54CbiCkw_5P3"
      },
      "source": [
        "vocab.insert_token('<unk>', 0)"
      ],
      "execution_count": null,
      "outputs": []
    },
    {
      "cell_type": "code",
      "metadata": {
        "id": "pTNbJipk_k5b",
        "colab": {
          "base_uri": "https://localhost:8080/"
        },
        "outputId": "9ac407e6-a166-4244-8afa-52fc2d97352e"
      },
      "source": [
        "vocab.get_itos()[:10]"
      ],
      "execution_count": null,
      "outputs": [
        {
          "output_type": "execute_result",
          "data": {
            "text/plain": [
              "['<unk>', 'the', ',', '.', 'of', 'and', 'in', 'to', 'a', '=']"
            ]
          },
          "metadata": {
            "tags": []
          },
          "execution_count": 21
        }
      ]
    },
    {
      "cell_type": "code",
      "metadata": {
        "id": "grwHG5UN_eKN"
      },
      "source": [
        "vocab.set_default_index(0)"
      ],
      "execution_count": null,
      "outputs": []
    },
    {
      "cell_type": "code",
      "metadata": {
        "id": "i_JUTdrJ_m7j",
        "colab": {
          "base_uri": "https://localhost:8080/"
        },
        "outputId": "555df14d-bcc1-421d-bcf3-5ef6940904e7"
      },
      "source": [
        "vocab['hello']"
      ],
      "execution_count": null,
      "outputs": [
        {
          "output_type": "execute_result",
          "data": {
            "text/plain": [
              "0"
            ]
          },
          "metadata": {
            "tags": []
          },
          "execution_count": 23
        }
      ]
    },
    {
      "cell_type": "code",
      "metadata": {
        "id": "rYKf-779yFCB"
      },
      "source": [
        "vocab.insert_token('<eos>', 1)"
      ],
      "execution_count": null,
      "outputs": []
    },
    {
      "cell_type": "code",
      "metadata": {
        "colab": {
          "base_uri": "https://localhost:8080/"
        },
        "id": "LtYdBoybyI9B",
        "outputId": "063fc79e-d691-47dc-84f1-2be9a48477d0"
      },
      "source": [
        "vocab.get_itos()[:10]"
      ],
      "execution_count": null,
      "outputs": [
        {
          "output_type": "execute_result",
          "data": {
            "text/plain": [
              "['<unk>', '<eos>', 'the', ',', '.', 'of', 'and', 'in', 'to', 'a']"
            ]
          },
          "metadata": {
            "tags": []
          },
          "execution_count": 25
        }
      ]
    },
    {
      "cell_type": "code",
      "metadata": {
        "id": "JMUwATIrwkAi"
      },
      "source": [
        "def get_data(dataset, vocab, batch_size):\n",
        "    data = []\n",
        "    for example in dataset:\n",
        "        if example['tokens']:\n",
        "            tokens = example['tokens'].append('<eos>')\n",
        "            tokens = [vocab[token] for token in example['tokens']]\n",
        "            data.extend(tokens)\n",
        "    data = torch.LongTensor(data)\n",
        "    n_batches = data.shape[0] // batch_size\n",
        "    data = data.narrow(0, 0, n_batches * batch_size)\n",
        "    data = data.view(batch_size, -1)\n",
        "    return data"
      ],
      "execution_count": null,
      "outputs": []
    },
    {
      "cell_type": "code",
      "metadata": {
        "id": "FtjtIvuNisST"
      },
      "source": [
        "batch_size = 128\n",
        "\n",
        "train_data = get_data(tokenized_dataset['train'], vocab, batch_size)"
      ],
      "execution_count": null,
      "outputs": []
    },
    {
      "cell_type": "code",
      "metadata": {
        "id": "LsmojuCbivzC",
        "colab": {
          "base_uri": "https://localhost:8080/"
        },
        "outputId": "d825c5d1-9847-4db2-f32e-cea55b897b41"
      },
      "source": [
        "train_data.shape"
      ],
      "execution_count": null,
      "outputs": [
        {
          "output_type": "execute_result",
          "data": {
            "text/plain": [
              "torch.Size([128, 16214])"
            ]
          },
          "metadata": {
            "tags": []
          },
          "execution_count": 28
        }
      ]
    },
    {
      "cell_type": "code",
      "metadata": {
        "id": "038OtCf3hbeY"
      },
      "source": [
        "valid_data = get_data(tokenized_dataset['validation'], vocab, batch_size)\n",
        "test_data = get_data(tokenized_dataset['test'], vocab, batch_size)"
      ],
      "execution_count": null,
      "outputs": []
    },
    {
      "cell_type": "code",
      "metadata": {
        "id": "lnFp5L1XOzvc"
      },
      "source": [
        "class LockedDropout(nn.Module):\n",
        "    def __init__(self, p=0.5):\n",
        "        super().__init__()\n",
        "        self.p = p\n",
        "\n",
        "    def forward(self, x):\n",
        "        # x = [batch size, seq len, hidden dim]\n",
        "        if not self.training or not self.p:\n",
        "            return x\n",
        "        x = x.clone()\n",
        "        mask = x.new_empty(x.shape[0], 1, x.shape[2], requires_grad=False).bernoulli_(1 - self.p)\n",
        "        mask = mask.div_(1 - self.p)\n",
        "        mask = mask.expand_as(x)\n",
        "        return x * mask"
      ],
      "execution_count": null,
      "outputs": []
    },
    {
      "cell_type": "code",
      "metadata": {
        "id": "iyXHwjATP8kU"
      },
      "source": [
        "def _setup_weight_drop(module, weights, dropout):\n",
        "    for name_w in weights:\n",
        "        w = getattr(module, name_w)\n",
        "        del module._parameters[name_w]\n",
        "        module.register_parameter(name_w + '_raw', nn.Parameter(w))\n",
        "\n",
        "    original_module_forward = module.forward\n",
        "\n",
        "    def forward(*args, **kwargs):\n",
        "        for name_w in weights:\n",
        "            raw_w = getattr(module, name_w + '_raw')\n",
        "            w = nn.Parameter(torch.nn.functional.dropout(raw_w, p=dropout, training=module.training))\n",
        "            setattr(module, name_w, w)\n",
        "\n",
        "        return original_module_forward(*args, **kwargs)\n",
        "\n",
        "    setattr(module, 'forward', forward)"
      ],
      "execution_count": null,
      "outputs": []
    },
    {
      "cell_type": "code",
      "metadata": {
        "id": "4JHLBu86RodS"
      },
      "source": [
        "class WeightDropLSTM(torch.nn.LSTM):\n",
        "    \"\"\"\n",
        "    Wrapper around :class:`torch.nn.LSTM` that adds ``weight_dropout`` named argument.\n",
        "\n",
        "    Args:\n",
        "        weight_dropout (float): The probability a weight will be dropped.\n",
        "    \"\"\"\n",
        "\n",
        "    def __init__(self, *args, weight_dropout=0.0, **kwargs):\n",
        "        super().__init__(*args, **kwargs)\n",
        "        weights = ['weight_hh_l' + str(i) for i in range(self.num_layers)]\n",
        "        _setup_weight_drop(self, weights, weight_dropout)"
      ],
      "execution_count": null,
      "outputs": []
    },
    {
      "cell_type": "code",
      "metadata": {
        "id": "BAKBc-UUjO0-"
      },
      "source": [
        "class LSTM(nn.Module):\n",
        "    def __init__(self, vocab_size, embedding_dim, hidden_dim, n_layers, \n",
        "                 embedding_dropout_rate, weight_dropout_rate, lstm_dropout_rate, output_dropout_rate, \n",
        "                 tie_weights):\n",
        "        super().__init__()\n",
        "        self.n_layers = n_layers\n",
        "        self.hidden_dim = hidden_dim\n",
        "        self.embedding = nn.Embedding(vocab_size, embedding_dim)\n",
        "        lstms = []\n",
        "        for n in range(n_layers):\n",
        "            input_dim = embedding_dim if n == 0 else hidden_dim\n",
        "            lstm = WeightDropLSTM(input_dim, hidden_dim, batch_first=True, weight_dropout=weight_dropout_rate)\n",
        "            lstms.append(lstm)\n",
        "        self.lstms = nn.ModuleList(lstms)\n",
        "        self.fc = nn.Linear(hidden_dim, vocab_size)\n",
        "\n",
        "        self.embedding_dropout = LockedDropout(embedding_dropout_rate)\n",
        "        self.lstm_dropout = LockedDropout(lstm_dropout_rate)\n",
        "        self.output_dropout = LockedDropout(output_dropout_rate)\n",
        "\n",
        "        if tie_weights:\n",
        "            assert embedding_dim == hidden_dim, 'If tying weights then embedding_dim must equal hidden_dim'\n",
        "            self.embedding.weight = self.fc.weight\n",
        "\n",
        "        self.init_weights()\n",
        "    \n",
        "    def init_weights(self):\n",
        "        init_range = 0.1\n",
        "        self.embedding.weight.data.uniform_(-init_range, init_range)\n",
        "        self.fc.weight.data.uniform_(-init_range, init_range)\n",
        "        self.fc.bias.data.zero_()\n",
        "\n",
        "    def init_hidden(self, batch_size, device):\n",
        "        hiddens = []\n",
        "        for n in range(self.n_layers):\n",
        "            hidden = torch.zeros(1, batch_size, self.hidden_dim).to(device)\n",
        "            cell = torch.zeros(1, batch_size, self.hidden_dim).to(device)\n",
        "            hiddens.append((hidden, cell))\n",
        "        return hiddens\n",
        "\n",
        "    def detach_hidden(self, hidden):\n",
        "        if isinstance(hidden, torch.Tensor):\n",
        "            return hidden.detach()\n",
        "        else:\n",
        "            return tuple(self.detach_hidden(h) for h in hidden)\n",
        "\n",
        "    def forward(self, input, hidden):\n",
        "        # input = [batch size, seq len]\n",
        "        # hidden = [n layers, batch size, hidden dim]\n",
        "        embedding = self.embedding_dropout(self.embedding(input))\n",
        "        # embedding = [batch size, seq len, embedding dim]\n",
        "        lstm_input = embedding\n",
        "        new_hiddens = []\n",
        "        for n, lstm in enumerate(self.lstms):\n",
        "            lstm_output, new_hidden = lstm(lstm_input, hidden[n])\n",
        "            # lstm_output = [batch size, seq len, hidden dim]\n",
        "            # new_hidden = [n layers, batch size, hidden dim]\n",
        "            if n != self.n_layers - 1:\n",
        "                lstm_output = self.lstm_dropout(lstm_output)\n",
        "            lstm_input = lstm_output\n",
        "            new_hiddens.append(new_hidden)\n",
        "        output = self.output_dropout(lstm_output)\n",
        "        output = self.fc(output)\n",
        "        # output = [batch size, seq len, vocab size]\n",
        "        return output, new_hiddens"
      ],
      "execution_count": null,
      "outputs": []
    },
    {
      "cell_type": "code",
      "metadata": {
        "id": "QBYYhJ3WjWpY"
      },
      "source": [
        "vocab_size = len(vocab)\n",
        "embedding_dim = 1024\n",
        "hidden_dim = 1024\n",
        "n_layers = 2\n",
        "embedding_dropout_rate = 0.4\n",
        "weight_dropout_rate = 0.4\n",
        "lstm_dropout_rate = 0.4\n",
        "output_dropout_rate = 0.4\n",
        "tie_weights = True\n",
        "\n",
        "model = LSTM(vocab_size, embedding_dim, hidden_dim, n_layers,\n",
        "             embedding_dropout_rate, weight_dropout_rate, lstm_dropout_rate, output_dropout_rate, \n",
        "             tie_weights)"
      ],
      "execution_count": null,
      "outputs": []
    },
    {
      "cell_type": "code",
      "metadata": {
        "colab": {
          "base_uri": "https://localhost:8080/"
        },
        "id": "0C9nTPpxsclE",
        "outputId": "a14d48d2-2769-4193-9c74-c94b0b789223"
      },
      "source": [
        "def count_parameters(model):\n",
        "    return sum(p.numel() for p in model.parameters() if p.requires_grad)\n",
        "\n",
        "print(f'The model has {count_parameters(model):,} trainable parameters')"
      ],
      "execution_count": null,
      "outputs": [
        {
          "output_type": "stream",
          "text": [
            "The model has 47,003,425 trainable parameters\n"
          ],
          "name": "stdout"
        }
      ]
    },
    {
      "cell_type": "code",
      "metadata": {
        "id": "SXwUDCA-92-y"
      },
      "source": [
        "optimizer = optim.Adam(model.parameters())"
      ],
      "execution_count": null,
      "outputs": []
    },
    {
      "cell_type": "code",
      "metadata": {
        "id": "dkggfxKJBZ04"
      },
      "source": [
        "criterion = nn.CrossEntropyLoss()"
      ],
      "execution_count": null,
      "outputs": []
    },
    {
      "cell_type": "code",
      "metadata": {
        "id": "WMfUy_H2IdUo",
        "colab": {
          "base_uri": "https://localhost:8080/"
        },
        "outputId": "a484e549-11b7-4a72-efaa-1eadbdcedd54"
      },
      "source": [
        "device = torch.device('cuda' if torch.cuda.is_available() else 'cpu')\n",
        "\n",
        "print(device)"
      ],
      "execution_count": null,
      "outputs": [
        {
          "output_type": "stream",
          "text": [
            "cuda\n"
          ],
          "name": "stdout"
        }
      ]
    },
    {
      "cell_type": "code",
      "metadata": {
        "id": "SoPhYH3PJB-S"
      },
      "source": [
        "model = model.to(device)\n",
        "criterion = criterion.to(device)"
      ],
      "execution_count": null,
      "outputs": []
    },
    {
      "cell_type": "code",
      "metadata": {
        "id": "5omPylb8Kag_"
      },
      "source": [
        "def train(model, data, optimizer, criterion, batch_size, base_seq_len, clip, device):\n",
        "    \n",
        "    epoch_loss = 0\n",
        "    model.train()\n",
        "    n_tokens = data.shape[-1]\n",
        "    base_lr = optimizer.param_groups[0][\"lr\"]\n",
        "\n",
        "    hidden = model.init_hidden(batch_size, device)\n",
        "    \n",
        "    for input, target in get_batches(data, base_seq_len):\n",
        "        optimizer.zero_grad()\n",
        "        input = input.to(device)\n",
        "        target = target.to(device)\n",
        "        # input = [batch size, seq len]\n",
        "        # target = [batch size, seq len]\n",
        "        batch_size, seq_len = input.shape\n",
        "        scaled_lr = base_lr * seq_len / base_seq_len\n",
        "        optimizer.param_groups[0][\"lr\"] = scaled_lr\n",
        "        hidden = model.detach_hidden(hidden)\n",
        "        # hidden = [n layers, batch size, hidden dim]\n",
        "        output, hidden = model(input, hidden)\n",
        "        # output = [batch size, seq len, vocab size]\n",
        "        # hidden = [n layers, batch size, hidden dim]\n",
        "        output = output.reshape(batch_size * seq_len, -1)\n",
        "        target = target.reshape(-1)\n",
        "        # output = [batch size * seq len, vocab size]\n",
        "        # target = [batch size * seq len]\n",
        "        loss = criterion(output, target)\n",
        "        loss.backward()\n",
        "        torch.nn.utils.clip_grad_norm_(model.parameters(), clip)\n",
        "        optimizer.step()\n",
        "        epoch_loss += loss.item() * seq_len\n",
        "    return epoch_loss / n_tokens"
      ],
      "execution_count": null,
      "outputs": []
    },
    {
      "cell_type": "code",
      "metadata": {
        "id": "DWC3EqqZ1Q8P"
      },
      "source": [
        "def get_batches(data, seq_len):\n",
        "    data_len = data.shape[-1]\n",
        "    total_seq_len = 0\n",
        "    sampled_seq_lens = []\n",
        "    min_seq_len, max_seq_len = int(seq_len * 0.9), int(seq_len * 1.1)\n",
        "    while total_seq_len < data_len:\n",
        "        sampled_seq_len = random.randint(min_seq_len, max_seq_len)\n",
        "        sampled_seq_lens.append(sampled_seq_len)\n",
        "        total_seq_len += sampled_seq_len\n",
        "    sampled_seq_lens = sampled_seq_lens[:-1]\n",
        "    pos = 0\n",
        "    for sampled_seq_len in sampled_seq_lens:\n",
        "        input = data[:,pos:pos+sampled_seq_len]\n",
        "        target = data[:,pos+1:pos+sampled_seq_len+1]\n",
        "        pos += sampled_seq_len\n",
        "        yield input, target"
      ],
      "execution_count": null,
      "outputs": []
    },
    {
      "cell_type": "code",
      "metadata": {
        "id": "6Ev0pAlFMAgH"
      },
      "source": [
        "def evaluate(model, data, criterion, batch_size, base_seq_len, device):\n",
        "\n",
        "    epoch_loss = 0\n",
        "    model.eval()\n",
        "    n_tokens = data.shape[-1]\n",
        "\n",
        "    hidden = model.init_hidden(batch_size, device)\n",
        "\n",
        "    with torch.no_grad():\n",
        "        for input, target in get_batches(data, base_seq_len):\n",
        "            input = input.to(device)\n",
        "            target = target.to(device)\n",
        "            # input = [batch size, seq len]\n",
        "            # target = [batch size, seq len]\n",
        "            batch_size, seq_len = input.shape\n",
        "            hidden = model.detach_hidden(hidden)\n",
        "            # hidden = [n layers, batch size, hidden dim]\n",
        "            output, hidden = model(input, hidden)\n",
        "            # output = [batch size, seq len, vocab size]\n",
        "            # hidden = [n layers, batch size, hidden dim]\n",
        "            output = output.reshape(batch_size * seq_len, -1)\n",
        "            target = target.reshape(-1)\n",
        "            # output = [batch size * seq len, vocab size]\n",
        "            # target = [batch size * seq len]\n",
        "            loss = criterion(output, target)\n",
        "            epoch_loss += loss.item() * seq_len\n",
        "    return epoch_loss / n_tokens"
      ],
      "execution_count": null,
      "outputs": []
    },
    {
      "cell_type": "code",
      "metadata": {
        "id": "n_qDt7hWi3wJ"
      },
      "source": [
        "def epoch_time(start_time, end_time):\n",
        "    elapsed_time = end_time - start_time\n",
        "    elapsed_mins = int(elapsed_time / 60)\n",
        "    elapsed_secs = int(elapsed_time - (elapsed_mins * 60))\n",
        "    return elapsed_mins, elapsed_secs"
      ],
      "execution_count": null,
      "outputs": []
    },
    {
      "cell_type": "code",
      "metadata": {
        "id": "9q6owq2DwP9Y"
      },
      "source": [
        "lr_scheduler = optim.lr_scheduler.ReduceLROnPlateau(optimizer, factor=0.5, patience=0)"
      ],
      "execution_count": null,
      "outputs": []
    },
    {
      "cell_type": "code",
      "metadata": {
        "id": "tYVEjus7MElw",
        "colab": {
          "base_uri": "https://localhost:8080/"
        },
        "outputId": "7ba2a010-9617-4ee4-8904-e753a433c40e"
      },
      "source": [
        "n_epochs = 50\n",
        "seq_len = 50\n",
        "clip = 0.25\n",
        "\n",
        "best_valid_loss = float('inf')\n",
        "\n",
        "for epoch in range(n_epochs):\n",
        "\n",
        "    start_time = time.monotonic()\n",
        "\n",
        "    train_loss = train(model, train_data, optimizer, criterion, batch_size, seq_len, clip, device)\n",
        "    valid_loss = evaluate(model, valid_data, criterion, batch_size, seq_len, device)\n",
        "    \n",
        "    lr_scheduler.step(valid_loss)\n",
        "\n",
        "    end_time = time.monotonic()\n",
        "\n",
        "    epoch_mins, epoch_secs = epoch_time(start_time, end_time)\n",
        "\n",
        "    if valid_loss < best_valid_loss:\n",
        "        best_valid_loss = valid_loss\n",
        "        torch.save(model.state_dict(), 'awd-lstm_lm.pt')\n",
        "\n",
        "    print(f'Epoch: {epoch+1:02} | Epoch Time: {epoch_mins}m {epoch_secs}s')\n",
        "    print(f'\\tTrain Perplexity: {math.exp(train_loss):.3f}')\n",
        "    print(f'\\tValid Perplexity: {math.exp(valid_loss):.3f}')"
      ],
      "execution_count": null,
      "outputs": [
        {
          "output_type": "stream",
          "text": [
            "/usr/local/lib/python3.7/dist-packages/torch/nn/modules/rnn.py:680: UserWarning: RNN module weights are not part of single contiguous chunk of memory. This means they need to be compacted at every call, possibly greatly increasing memory usage. To compact weights again call flatten_parameters(). (Triggered internally at  /pytorch/aten/src/ATen/native/cudnn/RNN.cpp:924.)\n",
            "  self.dropout, self.training, self.bidirectional, self.batch_first)\n"
          ],
          "name": "stderr"
        },
        {
          "output_type": "stream",
          "text": [
            "Epoch: 01 | Epoch Time: 1m 30s\n",
            "\tTrain Perplexity: 599.371\n",
            "\tValid Perplexity: 243.078\n",
            "Epoch: 02 | Epoch Time: 1m 30s\n",
            "\tTrain Perplexity: 260.736\n",
            "\tValid Perplexity: 185.420\n",
            "Epoch: 03 | Epoch Time: 1m 30s\n",
            "\tTrain Perplexity: 185.362\n",
            "\tValid Perplexity: 150.217\n",
            "Epoch: 04 | Epoch Time: 1m 30s\n",
            "\tTrain Perplexity: 141.389\n",
            "\tValid Perplexity: 137.517\n",
            "Epoch: 05 | Epoch Time: 1m 30s\n",
            "\tTrain Perplexity: 115.362\n",
            "\tValid Perplexity: 120.790\n",
            "Epoch: 06 | Epoch Time: 1m 30s\n",
            "\tTrain Perplexity: 99.415\n",
            "\tValid Perplexity: 125.349\n",
            "Epoch: 07 | Epoch Time: 1m 30s\n",
            "\tTrain Perplexity: 85.013\n",
            "\tValid Perplexity: 125.727\n",
            "Epoch: 08 | Epoch Time: 1m 30s\n",
            "\tTrain Perplexity: 79.302\n",
            "\tValid Perplexity: 108.041\n",
            "Epoch: 09 | Epoch Time: 1m 30s\n",
            "\tTrain Perplexity: 77.275\n",
            "\tValid Perplexity: 109.301\n",
            "Epoch: 10 | Epoch Time: 1m 30s\n",
            "\tTrain Perplexity: 75.031\n",
            "\tValid Perplexity: 122.888\n",
            "Epoch: 11 | Epoch Time: 1m 30s\n",
            "\tTrain Perplexity: 74.193\n",
            "\tValid Perplexity: 106.768\n",
            "Epoch: 12 | Epoch Time: 1m 30s\n",
            "\tTrain Perplexity: 74.398\n",
            "\tValid Perplexity: 111.483\n",
            "Epoch: 13 | Epoch Time: 1m 30s\n",
            "\tTrain Perplexity: 73.718\n",
            "\tValid Perplexity: 120.111\n",
            "Epoch: 14 | Epoch Time: 1m 30s\n",
            "\tTrain Perplexity: 72.657\n",
            "\tValid Perplexity: 106.204\n",
            "Epoch: 15 | Epoch Time: 1m 30s\n",
            "\tTrain Perplexity: 72.774\n",
            "\tValid Perplexity: 106.995\n",
            "Epoch: 16 | Epoch Time: 1m 30s\n",
            "\tTrain Perplexity: 73.050\n",
            "\tValid Perplexity: 106.370\n",
            "Epoch: 17 | Epoch Time: 1m 30s\n",
            "\tTrain Perplexity: 72.302\n",
            "\tValid Perplexity: 108.701\n",
            "Epoch: 18 | Epoch Time: 1m 30s\n",
            "\tTrain Perplexity: 72.984\n",
            "\tValid Perplexity: 114.349\n",
            "Epoch: 19 | Epoch Time: 1m 30s\n",
            "\tTrain Perplexity: 72.246\n",
            "\tValid Perplexity: 110.203\n",
            "Epoch: 20 | Epoch Time: 1m 30s\n",
            "\tTrain Perplexity: 72.728\n",
            "\tValid Perplexity: 115.247\n",
            "Epoch: 21 | Epoch Time: 1m 30s\n",
            "\tTrain Perplexity: 72.373\n",
            "\tValid Perplexity: 109.571\n",
            "Epoch: 22 | Epoch Time: 1m 30s\n",
            "\tTrain Perplexity: 72.751\n",
            "\tValid Perplexity: 119.902\n",
            "Epoch: 23 | Epoch Time: 1m 30s\n",
            "\tTrain Perplexity: 72.347\n",
            "\tValid Perplexity: 106.578\n",
            "Epoch: 24 | Epoch Time: 1m 30s\n",
            "\tTrain Perplexity: 72.614\n",
            "\tValid Perplexity: 106.870\n",
            "Epoch: 25 | Epoch Time: 1m 30s\n",
            "\tTrain Perplexity: 72.563\n",
            "\tValid Perplexity: 114.628\n",
            "Epoch: 26 | Epoch Time: 1m 30s\n",
            "\tTrain Perplexity: 72.669\n",
            "\tValid Perplexity: 104.506\n",
            "Epoch: 27 | Epoch Time: 1m 30s\n",
            "\tTrain Perplexity: 72.115\n",
            "\tValid Perplexity: 107.442\n",
            "Epoch: 28 | Epoch Time: 1m 30s\n",
            "\tTrain Perplexity: 72.280\n",
            "\tValid Perplexity: 114.943\n",
            "Epoch: 29 | Epoch Time: 1m 30s\n",
            "\tTrain Perplexity: 72.039\n",
            "\tValid Perplexity: 115.244\n",
            "Epoch: 30 | Epoch Time: 1m 30s\n",
            "\tTrain Perplexity: 72.632\n",
            "\tValid Perplexity: 118.286\n",
            "Epoch: 31 | Epoch Time: 1m 30s\n",
            "\tTrain Perplexity: 72.491\n",
            "\tValid Perplexity: 116.624\n",
            "Epoch: 32 | Epoch Time: 1m 30s\n",
            "\tTrain Perplexity: 72.533\n",
            "\tValid Perplexity: 116.624\n",
            "Epoch: 33 | Epoch Time: 1m 30s\n",
            "\tTrain Perplexity: 72.543\n",
            "\tValid Perplexity: 120.587\n",
            "Epoch: 34 | Epoch Time: 1m 30s\n",
            "\tTrain Perplexity: 72.188\n",
            "\tValid Perplexity: 120.253\n",
            "Epoch: 35 | Epoch Time: 1m 30s\n",
            "\tTrain Perplexity: 72.109\n",
            "\tValid Perplexity: 107.738\n",
            "Epoch: 36 | Epoch Time: 1m 30s\n",
            "\tTrain Perplexity: 72.342\n",
            "\tValid Perplexity: 115.903\n",
            "Epoch: 37 | Epoch Time: 1m 30s\n",
            "\tTrain Perplexity: 72.944\n",
            "\tValid Perplexity: 103.923\n",
            "Epoch: 38 | Epoch Time: 1m 30s\n",
            "\tTrain Perplexity: 72.695\n",
            "\tValid Perplexity: 117.283\n",
            "Epoch: 39 | Epoch Time: 1m 30s\n",
            "\tTrain Perplexity: 72.160\n",
            "\tValid Perplexity: 118.920\n",
            "Epoch: 40 | Epoch Time: 1m 30s\n",
            "\tTrain Perplexity: 72.648\n",
            "\tValid Perplexity: 109.267\n",
            "Epoch: 41 | Epoch Time: 1m 30s\n",
            "\tTrain Perplexity: 72.946\n",
            "\tValid Perplexity: 118.604\n",
            "Epoch: 42 | Epoch Time: 1m 30s\n",
            "\tTrain Perplexity: 72.109\n",
            "\tValid Perplexity: 109.568\n",
            "Epoch: 43 | Epoch Time: 1m 30s\n",
            "\tTrain Perplexity: 71.892\n",
            "\tValid Perplexity: 116.936\n",
            "Epoch: 44 | Epoch Time: 1m 30s\n",
            "\tTrain Perplexity: 72.814\n",
            "\tValid Perplexity: 114.942\n",
            "Epoch: 45 | Epoch Time: 1m 30s\n",
            "\tTrain Perplexity: 72.559\n",
            "\tValid Perplexity: 114.047\n",
            "Epoch: 46 | Epoch Time: 1m 30s\n",
            "\tTrain Perplexity: 72.637\n",
            "\tValid Perplexity: 104.828\n",
            "Epoch: 47 | Epoch Time: 1m 30s\n",
            "\tTrain Perplexity: 72.055\n",
            "\tValid Perplexity: 109.568\n",
            "Epoch: 48 | Epoch Time: 1m 30s\n",
            "\tTrain Perplexity: 72.051\n",
            "\tValid Perplexity: 116.249\n",
            "Epoch: 49 | Epoch Time: 1m 30s\n",
            "\tTrain Perplexity: 72.667\n",
            "\tValid Perplexity: 120.252\n",
            "Epoch: 50 | Epoch Time: 1m 30s\n",
            "\tTrain Perplexity: 72.322\n",
            "\tValid Perplexity: 118.603\n"
          ],
          "name": "stdout"
        }
      ]
    },
    {
      "cell_type": "code",
      "metadata": {
        "id": "N0Y0oNdgRkad",
        "colab": {
          "base_uri": "https://localhost:8080/",
          "height": 235
        },
        "outputId": "6565a98f-5c40-4788-9f74-72aa9520ed71"
      },
      "source": [
        "model.load_state_dict(torch.load('awd-lstm_lm.pt'))\n",
        "\n",
        "test_loss = evaluate(model, test_data, criterion, batch_size, seq_len, device)\n",
        "\n",
        "print(f'Test Perplexity: {math.exp(test_loss):.3f}')"
      ],
      "execution_count": null,
      "outputs": [
        {
          "output_type": "error",
          "ename": "NameError",
          "evalue": "ignored",
          "traceback": [
            "\u001b[0;31m---------------------------------------------------------------------------\u001b[0m",
            "\u001b[0;31mNameError\u001b[0m                                 Traceback (most recent call last)",
            "\u001b[0;32m<ipython-input-46-def86b36dff1>\u001b[0m in \u001b[0;36m<module>\u001b[0;34m()\u001b[0m\n\u001b[1;32m      1\u001b[0m \u001b[0mmodel\u001b[0m\u001b[0;34m.\u001b[0m\u001b[0mload_state_dict\u001b[0m\u001b[0;34m(\u001b[0m\u001b[0mtorch\u001b[0m\u001b[0;34m.\u001b[0m\u001b[0mload\u001b[0m\u001b[0;34m(\u001b[0m\u001b[0;34m'awd-lstm_lm.pt'\u001b[0m\u001b[0;34m)\u001b[0m\u001b[0;34m)\u001b[0m\u001b[0;34m\u001b[0m\u001b[0;34m\u001b[0m\u001b[0m\n\u001b[1;32m      2\u001b[0m \u001b[0;34m\u001b[0m\u001b[0m\n\u001b[0;32m----> 3\u001b[0;31m \u001b[0mtest_loss\u001b[0m \u001b[0;34m=\u001b[0m \u001b[0mevaluate\u001b[0m\u001b[0;34m(\u001b[0m\u001b[0mmodel\u001b[0m\u001b[0;34m,\u001b[0m \u001b[0mtest_data\u001b[0m\u001b[0;34m,\u001b[0m \u001b[0mcriterion\u001b[0m\u001b[0;34m,\u001b[0m \u001b[0mbatch_size\u001b[0m\u001b[0;34m,\u001b[0m \u001b[0mmax_seq_len\u001b[0m\u001b[0;34m,\u001b[0m \u001b[0mdevice\u001b[0m\u001b[0;34m)\u001b[0m\u001b[0;34m\u001b[0m\u001b[0;34m\u001b[0m\u001b[0m\n\u001b[0m\u001b[1;32m      4\u001b[0m \u001b[0;34m\u001b[0m\u001b[0m\n\u001b[1;32m      5\u001b[0m \u001b[0mprint\u001b[0m\u001b[0;34m(\u001b[0m\u001b[0;34mf'Test Perplexity: {math.exp(test_loss):.3f}'\u001b[0m\u001b[0;34m)\u001b[0m\u001b[0;34m\u001b[0m\u001b[0;34m\u001b[0m\u001b[0m\n",
            "\u001b[0;31mNameError\u001b[0m: name 'max_seq_len' is not defined"
          ]
        }
      ]
    },
    {
      "cell_type": "code",
      "metadata": {
        "id": "GexY2GcCRtXu"
      },
      "source": [
        "def generate(prompt, n_gen_tokens, temperature, model, tokenizer, vocab, device, seed=None):\n",
        "\n",
        "    if seed is not None:\n",
        "        torch.manual_seed(0)\n",
        "\n",
        "    tokens = tokenizer(prompt)\n",
        "    indices = [vocab[t] for t in tokens]\n",
        "    batch_size = 1\n",
        "    hidden = model.init_hidden(batch_size, device)\n",
        "    with torch.no_grad():\n",
        "        for i in range(n_gen_tokens):\n",
        "            input = torch.LongTensor([indices]).to(device)\n",
        "            output, hidden = model(input, hidden)\n",
        "            probs = torch.softmax(output[:, -1] / temperature, dim=-1) \n",
        "            prediction = torch.multinomial(probs, num_samples=1).item()\n",
        "            indices.append(prediction)\n",
        "\n",
        "    itos = vocab.get_itos()\n",
        "    tokens = [itos[i] for i in indices]\n",
        "    return tokens"
      ],
      "execution_count": null,
      "outputs": []
    },
    {
      "cell_type": "code",
      "metadata": {
        "id": "R778iX9gR38L"
      },
      "source": [
        "prompt = 'my favourite color'\n",
        "n_gen_tokens = 25\n",
        "temperature = 0.1\n",
        "seed = 0\n",
        "\n",
        "generation = generate(prompt, n_gen_tokens, temperature, model, tokenizer, vocab, device, seed)"
      ],
      "execution_count": null,
      "outputs": []
    },
    {
      "cell_type": "code",
      "metadata": {
        "id": "U1MCYs3mR7nm"
      },
      "source": [
        "generation"
      ],
      "execution_count": null,
      "outputs": []
    },
    {
      "cell_type": "code",
      "metadata": {
        "id": "Wpz2dfdcR8mc"
      },
      "source": [
        "temperature = 0.25\n",
        "\n",
        "generation = generate(prompt, n_gen_tokens, temperature, model, tokenizer, vocab, device, seed)"
      ],
      "execution_count": null,
      "outputs": []
    },
    {
      "cell_type": "code",
      "metadata": {
        "id": "87N3LkyVpEIL"
      },
      "source": [
        "generation"
      ],
      "execution_count": null,
      "outputs": []
    },
    {
      "cell_type": "code",
      "metadata": {
        "id": "RbGOerWrpHnc"
      },
      "source": [
        "temperature = 0.75\n",
        "\n",
        "generation = generate(prompt, n_gen_tokens, temperature, model, tokenizer, vocab, device, seed)"
      ],
      "execution_count": null,
      "outputs": []
    },
    {
      "cell_type": "code",
      "metadata": {
        "id": "7ZLB5jwgpKUQ"
      },
      "source": [
        "generation"
      ],
      "execution_count": null,
      "outputs": []
    },
    {
      "cell_type": "code",
      "metadata": {
        "id": "FYNUGi9uy-qr"
      },
      "source": [
        "temperature = 1.0\n",
        "\n",
        "generation = generate(prompt, n_gen_tokens, temperature, model, tokenizer, vocab, device, seed)"
      ],
      "execution_count": null,
      "outputs": []
    },
    {
      "cell_type": "code",
      "metadata": {
        "id": "CAf98XY-9-T6"
      },
      "source": [
        "generation"
      ],
      "execution_count": null,
      "outputs": []
    },
    {
      "cell_type": "code",
      "metadata": {
        "id": "clWCfGOF-N8G"
      },
      "source": [
        "temperature = 2.5\n",
        "\n",
        "generation = generate(prompt, n_gen_tokens, temperature, model, tokenizer, vocab, device, seed)"
      ],
      "execution_count": null,
      "outputs": []
    },
    {
      "cell_type": "code",
      "metadata": {
        "id": "QJs4jw1n-N6D"
      },
      "source": [
        "generation"
      ],
      "execution_count": null,
      "outputs": []
    },
    {
      "cell_type": "code",
      "metadata": {
        "id": "VJxcBjpN-N4F"
      },
      "source": [
        "temperature = 5.0\n",
        "\n",
        "generation = generate(prompt, n_gen_tokens, temperature, model, tokenizer, vocab, device, seed)"
      ],
      "execution_count": null,
      "outputs": []
    },
    {
      "cell_type": "code",
      "metadata": {
        "id": "2WLOsMmi-NzF"
      },
      "source": [
        "generation"
      ],
      "execution_count": null,
      "outputs": []
    },
    {
      "cell_type": "code",
      "metadata": {
        "id": "aJhAnI2z-NwQ"
      },
      "source": [
        "temperature = 10.0\n",
        "\n",
        "generation = generate(prompt, n_gen_tokens, temperature, model, tokenizer, vocab, device, seed)"
      ],
      "execution_count": null,
      "outputs": []
    },
    {
      "cell_type": "code",
      "metadata": {
        "id": "gu7xgM3l-Nth"
      },
      "source": [
        "generation"
      ],
      "execution_count": null,
      "outputs": []
    },
    {
      "cell_type": "code",
      "metadata": {
        "id": "i9iragXiKVKl"
      },
      "source": [
        ""
      ],
      "execution_count": null,
      "outputs": []
    }
  ]
}